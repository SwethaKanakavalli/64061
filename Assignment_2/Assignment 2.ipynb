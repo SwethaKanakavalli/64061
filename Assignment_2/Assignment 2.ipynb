{
  "cells": [
    {
      "cell_type": "markdown",
      "metadata": {
        "id": "YDDfS-oVjqJ9"
      },
      "source": [
        "This is a companion notebook for the book [Deep Learning with Python, Second Edition](https://www.manning.com/books/deep-learning-with-python-second-edition?a_aid=keras&a_bid=76564dff). For readability, it only contains runnable code blocks and section titles, and omits everything else in the book: text paragraphs, figures, and pseudocode.\n",
        "\n",
        "**If you want to be able to follow what's going on, I recommend reading the notebook side by side with your copy of the book.**\n",
        "\n",
        "This notebook was generated for TensorFlow 2.6."
      ]
    },
    {
      "cell_type": "markdown",
      "metadata": {
        "id": "6-sk_efMjqJ_"
      },
      "source": [
        "## Modern convnet architecture patterns"
      ]
    },
    {
      "cell_type": "markdown",
      "metadata": {
        "id": "lj-IzSUtjqKA"
      },
      "source": [
        "**Residual block where the number of filters changes**"
      ]
    },
    {
      "cell_type": "markdown",
      "source": [
        " Assignment -2 : Convolution"
      ],
      "metadata": {
        "id": "T713KCkAx9sK"
      }
    },
    {
      "cell_type": "markdown",
      "source": [
        "Here we will compare the relationship between training samples and the choice of training your model from the new model using a pretrained convolution network."
      ],
      "metadata": {
        "id": "VEAN8EkY1qJ1"
      }
    },
    {
      "cell_type": "code",
      "execution_count": null,
      "metadata": {
        "id": "r52XDI5djqKC",
        "outputId": "6f101db1-c793-46f9-933d-5d02630a2a4f",
        "colab": {
          "base_uri": "https://localhost:8080/",
          "height": 90
        }
      },
      "outputs": [
        {
          "output_type": "display_data",
          "data": {
            "text/plain": [
              "<IPython.core.display.HTML object>"
            ],
            "text/html": [
              "\n",
              "     <input type=\"file\" id=\"files-022baab2-d4c0-4dbb-afe1-f763b52b4fcf\" name=\"files[]\" multiple disabled\n",
              "        style=\"border:none\" />\n",
              "     <output id=\"result-022baab2-d4c0-4dbb-afe1-f763b52b4fcf\">\n",
              "      Upload widget is only available when the cell has been executed in the\n",
              "      current browser session. Please rerun this cell to enable.\n",
              "      </output>\n",
              "      <script>// Copyright 2017 Google LLC\n",
              "//\n",
              "// Licensed under the Apache License, Version 2.0 (the \"License\");\n",
              "// you may not use this file except in compliance with the License.\n",
              "// You may obtain a copy of the License at\n",
              "//\n",
              "//      http://www.apache.org/licenses/LICENSE-2.0\n",
              "//\n",
              "// Unless required by applicable law or agreed to in writing, software\n",
              "// distributed under the License is distributed on an \"AS IS\" BASIS,\n",
              "// WITHOUT WARRANTIES OR CONDITIONS OF ANY KIND, either express or implied.\n",
              "// See the License for the specific language governing permissions and\n",
              "// limitations under the License.\n",
              "\n",
              "/**\n",
              " * @fileoverview Helpers for google.colab Python module.\n",
              " */\n",
              "(function(scope) {\n",
              "function span(text, styleAttributes = {}) {\n",
              "  const element = document.createElement('span');\n",
              "  element.textContent = text;\n",
              "  for (const key of Object.keys(styleAttributes)) {\n",
              "    element.style[key] = styleAttributes[key];\n",
              "  }\n",
              "  return element;\n",
              "}\n",
              "\n",
              "// Max number of bytes which will be uploaded at a time.\n",
              "const MAX_PAYLOAD_SIZE = 100 * 1024;\n",
              "\n",
              "function _uploadFiles(inputId, outputId) {\n",
              "  const steps = uploadFilesStep(inputId, outputId);\n",
              "  const outputElement = document.getElementById(outputId);\n",
              "  // Cache steps on the outputElement to make it available for the next call\n",
              "  // to uploadFilesContinue from Python.\n",
              "  outputElement.steps = steps;\n",
              "\n",
              "  return _uploadFilesContinue(outputId);\n",
              "}\n",
              "\n",
              "// This is roughly an async generator (not supported in the browser yet),\n",
              "// where there are multiple asynchronous steps and the Python side is going\n",
              "// to poll for completion of each step.\n",
              "// This uses a Promise to block the python side on completion of each step,\n",
              "// then passes the result of the previous step as the input to the next step.\n",
              "function _uploadFilesContinue(outputId) {\n",
              "  const outputElement = document.getElementById(outputId);\n",
              "  const steps = outputElement.steps;\n",
              "\n",
              "  const next = steps.next(outputElement.lastPromiseValue);\n",
              "  return Promise.resolve(next.value.promise).then((value) => {\n",
              "    // Cache the last promise value to make it available to the next\n",
              "    // step of the generator.\n",
              "    outputElement.lastPromiseValue = value;\n",
              "    return next.value.response;\n",
              "  });\n",
              "}\n",
              "\n",
              "/**\n",
              " * Generator function which is called between each async step of the upload\n",
              " * process.\n",
              " * @param {string} inputId Element ID of the input file picker element.\n",
              " * @param {string} outputId Element ID of the output display.\n",
              " * @return {!Iterable<!Object>} Iterable of next steps.\n",
              " */\n",
              "function* uploadFilesStep(inputId, outputId) {\n",
              "  const inputElement = document.getElementById(inputId);\n",
              "  inputElement.disabled = false;\n",
              "\n",
              "  const outputElement = document.getElementById(outputId);\n",
              "  outputElement.innerHTML = '';\n",
              "\n",
              "  const pickedPromise = new Promise((resolve) => {\n",
              "    inputElement.addEventListener('change', (e) => {\n",
              "      resolve(e.target.files);\n",
              "    });\n",
              "  });\n",
              "\n",
              "  const cancel = document.createElement('button');\n",
              "  inputElement.parentElement.appendChild(cancel);\n",
              "  cancel.textContent = 'Cancel upload';\n",
              "  const cancelPromise = new Promise((resolve) => {\n",
              "    cancel.onclick = () => {\n",
              "      resolve(null);\n",
              "    };\n",
              "  });\n",
              "\n",
              "  // Wait for the user to pick the files.\n",
              "  const files = yield {\n",
              "    promise: Promise.race([pickedPromise, cancelPromise]),\n",
              "    response: {\n",
              "      action: 'starting',\n",
              "    }\n",
              "  };\n",
              "\n",
              "  cancel.remove();\n",
              "\n",
              "  // Disable the input element since further picks are not allowed.\n",
              "  inputElement.disabled = true;\n",
              "\n",
              "  if (!files) {\n",
              "    return {\n",
              "      response: {\n",
              "        action: 'complete',\n",
              "      }\n",
              "    };\n",
              "  }\n",
              "\n",
              "  for (const file of files) {\n",
              "    const li = document.createElement('li');\n",
              "    li.append(span(file.name, {fontWeight: 'bold'}));\n",
              "    li.append(span(\n",
              "        `(${file.type || 'n/a'}) - ${file.size} bytes, ` +\n",
              "        `last modified: ${\n",
              "            file.lastModifiedDate ? file.lastModifiedDate.toLocaleDateString() :\n",
              "                                    'n/a'} - `));\n",
              "    const percent = span('0% done');\n",
              "    li.appendChild(percent);\n",
              "\n",
              "    outputElement.appendChild(li);\n",
              "\n",
              "    const fileDataPromise = new Promise((resolve) => {\n",
              "      const reader = new FileReader();\n",
              "      reader.onload = (e) => {\n",
              "        resolve(e.target.result);\n",
              "      };\n",
              "      reader.readAsArrayBuffer(file);\n",
              "    });\n",
              "    // Wait for the data to be ready.\n",
              "    let fileData = yield {\n",
              "      promise: fileDataPromise,\n",
              "      response: {\n",
              "        action: 'continue',\n",
              "      }\n",
              "    };\n",
              "\n",
              "    // Use a chunked sending to avoid message size limits. See b/62115660.\n",
              "    let position = 0;\n",
              "    do {\n",
              "      const length = Math.min(fileData.byteLength - position, MAX_PAYLOAD_SIZE);\n",
              "      const chunk = new Uint8Array(fileData, position, length);\n",
              "      position += length;\n",
              "\n",
              "      const base64 = btoa(String.fromCharCode.apply(null, chunk));\n",
              "      yield {\n",
              "        response: {\n",
              "          action: 'append',\n",
              "          file: file.name,\n",
              "          data: base64,\n",
              "        },\n",
              "      };\n",
              "\n",
              "      let percentDone = fileData.byteLength === 0 ?\n",
              "          100 :\n",
              "          Math.round((position / fileData.byteLength) * 100);\n",
              "      percent.textContent = `${percentDone}% done`;\n",
              "\n",
              "    } while (position < fileData.byteLength);\n",
              "  }\n",
              "\n",
              "  // All done.\n",
              "  yield {\n",
              "    response: {\n",
              "      action: 'complete',\n",
              "    }\n",
              "  };\n",
              "}\n",
              "\n",
              "scope.google = scope.google || {};\n",
              "scope.google.colab = scope.google.colab || {};\n",
              "scope.google.colab._files = {\n",
              "  _uploadFiles,\n",
              "  _uploadFilesContinue,\n",
              "};\n",
              "})(self);\n",
              "</script> "
            ]
          },
          "metadata": {}
        },
        {
          "output_type": "stream",
          "name": "stdout",
          "text": [
            "Saving kaggle.json to kaggle.json\n"
          ]
        },
        {
          "output_type": "execute_result",
          "data": {
            "text/plain": [
              "{'kaggle.json': b'{\"username\":\"swethakanakavalli\",\"key\":\"b4f64d8a004067c31943fcff585bdfcb\"}'}"
            ]
          },
          "metadata": {},
          "execution_count": 1
        }
      ],
      "source": [
        "from google.colab import files\n",
        "files.upload()"
      ]
    },
    {
      "cell_type": "code",
      "execution_count": null,
      "metadata": {
        "id": "cz7mC9zAjqKC",
        "outputId": "4236ef9b-d7ec-40f9-9f43-1502b00e7aa7",
        "colab": {
          "base_uri": "https://localhost:8080/"
        }
      },
      "outputs": [
        {
          "output_type": "stream",
          "name": "stdout",
          "text": [
            "Downloading dogs-vs-cats.zip to /content\n",
            " 97% 785M/812M [00:05<00:00, 59.7MB/s]\n",
            "100% 812M/812M [00:05<00:00, 152MB/s] \n"
          ]
        }
      ],
      "source": [
        "!mkdir ~/.kaggle\n",
        "!cp kaggle.json ~/.kaggle/\n",
        "!chmod 600 ~/.kaggle/kaggle.json\n",
        "!kaggle competitions download -c dogs-vs-cats\n",
        "\n",
        "!unzip -qq dogs-vs-cats.zip\n",
        "!unzip -qq test1.zip\n",
        "!unzip -qq train.zip"
      ]
    },
    {
      "cell_type": "markdown",
      "source": [
        "1. Consider the Cats & Dogs example. Start initially with a training sample of 1000, a validation \n",
        "sample of 500, and a test sample of 500 (like in the text). Use any technique to reduce \n",
        "overfitting and improve performance in developing a network that you train from scratch. What \n",
        "performance did you achieve?  "
      ],
      "metadata": {
        "id": "7ApP87gx2YRF"
      }
    },
    {
      "cell_type": "markdown",
      "source": [
        "Here I am transferring pictures to the test, validation, and training directories"
      ],
      "metadata": {
        "id": "tbXJIKMA2pq3"
      }
    },
    {
      "cell_type": "code",
      "source": [
        "import os, shutil, pathlib\n",
        "\n",
        "original_dir = pathlib.Path(\"train\")\n",
        "new_base_dir = pathlib.Path(\"cats_vs_dogs_small\")\n",
        "\n",
        "def make_subset(subset_name, start_index, end_index):\n",
        "    for category in (\"cat\", \"dog\"):\n",
        "        dir = new_base_dir / subset_name / category\n",
        "        os.makedirs(dir)\n",
        "        fnames = [f\"{category}.{i}.jpg\" for i in range(start_index, end_index)]\n",
        "        for fname in fnames:\n",
        "            shutil.copyfile(src=original_dir / fname,\n",
        "                            dst=dir / fname)\n",
        "#Initially taking 1000 samples for training set\n",
        "make_subset(\"train\", start_index=0, end_index=1000)\n",
        "#500 samples for validation set\n",
        "make_subset(\"validation\", start_index=1000, end_index=1500)\n",
        "#500 for test set\n",
        "make_subset(\"test\", start_index=1500, end_index=2000)"
      ],
      "metadata": {
        "id": "rfjsqTeakeHF"
      },
      "execution_count": null,
      "outputs": []
    },
    {
      "cell_type": "markdown",
      "source": [
        "Data Preprocessing : Here I am using the image_dataset_from_directory to read the images"
      ],
      "metadata": {
        "id": "Tf5IIfvH21lj"
      }
    },
    {
      "cell_type": "code",
      "source": [
        "from tensorflow.keras.utils import image_dataset_from_directory\n",
        "\n",
        "train_dataset = image_dataset_from_directory(\n",
        "    new_base_dir / \"train\",\n",
        "    image_size=(180, 180),\n",
        "    batch_size=32)\n",
        "validation_dataset = image_dataset_from_directory(\n",
        "    new_base_dir / \"validation\",\n",
        "    image_size=(180, 180),\n",
        "    batch_size=32)\n",
        "test_dataset = image_dataset_from_directory(\n",
        "    new_base_dir / \"test\",\n",
        "    image_size=(180, 180),\n",
        "    batch_size=32)"
      ],
      "metadata": {
        "id": "oX_2ri6lkhOx",
        "outputId": "176d3ec3-c87b-4890-9af3-030dbe1bc4ec",
        "colab": {
          "base_uri": "https://localhost:8080/"
        }
      },
      "execution_count": null,
      "outputs": [
        {
          "output_type": "stream",
          "name": "stdout",
          "text": [
            "Found 2000 files belonging to 2 classes.\n",
            "Found 1000 files belonging to 2 classes.\n",
            "Found 1000 files belonging to 2 classes.\n"
          ]
        }
      ]
    },
    {
      "cell_type": "code",
      "source": [
        "import numpy as np\n",
        "import tensorflow as tf\n",
        "random_numbers = np.random.normal(size=(1000, 16))\n",
        "dataset = tf.data.Dataset.from_tensor_slices(random_numbers)"
      ],
      "metadata": {
        "id": "lC3V7hpdklIk"
      },
      "execution_count": null,
      "outputs": []
    },
    {
      "cell_type": "code",
      "source": [
        "for i, element in enumerate(dataset):\n",
        "    print(element.shape)\n",
        "    if i >= 2:\n",
        "        break"
      ],
      "metadata": {
        "id": "QEbYX4BXknz3",
        "outputId": "c50d5336-d758-497c-a4da-04ed786dda57",
        "colab": {
          "base_uri": "https://localhost:8080/"
        }
      },
      "execution_count": null,
      "outputs": [
        {
          "output_type": "stream",
          "name": "stdout",
          "text": [
            "(16,)\n",
            "(16,)\n",
            "(16,)\n"
          ]
        }
      ]
    },
    {
      "cell_type": "code",
      "source": [
        "batched_dataset = dataset.batch(32)\n",
        "for i, element in enumerate(batched_dataset):\n",
        "    print(element.shape)\n",
        "    if i >= 2:\n",
        "        break"
      ],
      "metadata": {
        "id": "215l5MKAkqVU",
        "outputId": "e9d5b1ce-3ceb-4275-86df-89a4fa491a27",
        "colab": {
          "base_uri": "https://localhost:8080/"
        }
      },
      "execution_count": null,
      "outputs": [
        {
          "output_type": "stream",
          "name": "stdout",
          "text": [
            "(32, 16)\n",
            "(32, 16)\n",
            "(32, 16)\n"
          ]
        }
      ]
    },
    {
      "cell_type": "code",
      "source": [
        "reshaped_dataset = dataset.map(lambda x: tf.reshape(x, (4, 4)))\n",
        "for i, element in enumerate(reshaped_dataset):\n",
        "    print(element.shape)\n",
        "    if i >= 2:\n",
        "        break"
      ],
      "metadata": {
        "id": "oN01QE_YkslS",
        "outputId": "76598c7f-6dc7-4026-933b-494db9dcef54",
        "colab": {
          "base_uri": "https://localhost:8080/"
        }
      },
      "execution_count": null,
      "outputs": [
        {
          "output_type": "stream",
          "name": "stdout",
          "text": [
            "(4, 4)\n",
            "(4, 4)\n",
            "(4, 4)\n"
          ]
        }
      ]
    },
    {
      "cell_type": "code",
      "source": [
        "for data_batch, labels_batch in train_dataset:\n",
        "    print(\"data batch shape:\", data_batch.shape)\n",
        "    print(\"labels batch shape:\", labels_batch.shape)\n",
        "    break"
      ],
      "metadata": {
        "id": "EHE9s9K0kwH6",
        "outputId": "e9975b86-6619-4b74-ec31-875664797621",
        "colab": {
          "base_uri": "https://localhost:8080/"
        }
      },
      "execution_count": null,
      "outputs": [
        {
          "output_type": "stream",
          "name": "stdout",
          "text": [
            "data batch shape: (32, 180, 180, 3)\n",
            "labels batch shape: (32,)\n"
          ]
        }
      ]
    },
    {
      "cell_type": "markdown",
      "source": [
        "Building the model"
      ],
      "metadata": {
        "id": "jEJsgYYh3LRj"
      }
    },
    {
      "cell_type": "code",
      "source": [
        "from tensorflow import keras\n",
        "from tensorflow.keras import layers\n",
        "\n",
        "inputs = keras.Input(shape=(180, 180, 3))\n",
        "x = layers.Rescaling(1./255)(inputs)\n",
        "x = layers.Conv2D(filters=32, kernel_size=3, activation=\"relu\")(x)\n",
        "x = layers.MaxPooling2D(pool_size=2)(x)\n",
        "x = layers.Conv2D(filters=64, kernel_size=3, activation=\"relu\")(x)\n",
        "x = layers.MaxPooling2D(pool_size=2)(x)\n",
        "x = layers.Conv2D(filters=128, kernel_size=3, activation=\"relu\")(x)\n",
        "x = layers.MaxPooling2D(pool_size=2)(x)\n",
        "x = layers.Conv2D(filters=256, kernel_size=3, activation=\"relu\")(x)\n",
        "x = layers.MaxPooling2D(pool_size=2)(x)\n",
        "x = layers.Conv2D(filters=256, kernel_size=3, activation=\"relu\")(x)\n",
        "x = layers.Flatten()(x)\n",
        "x = layers.Dropout(0.5)(x)\n",
        "outputs = layers.Dense(1, activation=\"sigmoid\")(x)\n",
        "model = keras.Model(inputs=inputs, outputs=outputs)"
      ],
      "metadata": {
        "id": "7pvb4Vskkyi5"
      },
      "execution_count": null,
      "outputs": []
    },
    {
      "cell_type": "code",
      "source": [
        "model.compile(loss=\"binary_crossentropy\",\n",
        "              optimizer=\"rmsprop\",\n",
        "              metrics=[\"accuracy\"])"
      ],
      "metadata": {
        "id": "fYDR3nsSk1He"
      },
      "execution_count": null,
      "outputs": []
    },
    {
      "cell_type": "code",
      "source": [
        "model.summary()"
      ],
      "metadata": {
        "id": "UZs9fgU1k3A3",
        "outputId": "c1b6e690-01b6-481e-957f-9d9a3bdf15d8",
        "colab": {
          "base_uri": "https://localhost:8080/"
        }
      },
      "execution_count": null,
      "outputs": [
        {
          "output_type": "stream",
          "name": "stdout",
          "text": [
            "Model: \"model\"\n",
            "_________________________________________________________________\n",
            " Layer (type)                Output Shape              Param #   \n",
            "=================================================================\n",
            " input_1 (InputLayer)        [(None, 180, 180, 3)]     0         \n",
            "                                                                 \n",
            " rescaling (Rescaling)       (None, 180, 180, 3)       0         \n",
            "                                                                 \n",
            " conv2d (Conv2D)             (None, 178, 178, 32)      896       \n",
            "                                                                 \n",
            " max_pooling2d (MaxPooling2D  (None, 89, 89, 32)       0         \n",
            " )                                                               \n",
            "                                                                 \n",
            " conv2d_1 (Conv2D)           (None, 87, 87, 64)        18496     \n",
            "                                                                 \n",
            " max_pooling2d_1 (MaxPooling  (None, 43, 43, 64)       0         \n",
            " 2D)                                                             \n",
            "                                                                 \n",
            " conv2d_2 (Conv2D)           (None, 41, 41, 128)       73856     \n",
            "                                                                 \n",
            " max_pooling2d_2 (MaxPooling  (None, 20, 20, 128)      0         \n",
            " 2D)                                                             \n",
            "                                                                 \n",
            " conv2d_3 (Conv2D)           (None, 18, 18, 256)       295168    \n",
            "                                                                 \n",
            " max_pooling2d_3 (MaxPooling  (None, 9, 9, 256)        0         \n",
            " 2D)                                                             \n",
            "                                                                 \n",
            " conv2d_4 (Conv2D)           (None, 7, 7, 256)         590080    \n",
            "                                                                 \n",
            " flatten (Flatten)           (None, 12544)             0         \n",
            "                                                                 \n",
            " dropout (Dropout)           (None, 12544)             0         \n",
            "                                                                 \n",
            " dense (Dense)               (None, 1)                 12545     \n",
            "                                                                 \n",
            "=================================================================\n",
            "Total params: 991,041\n",
            "Trainable params: 991,041\n",
            "Non-trainable params: 0\n",
            "_________________________________________________________________\n"
          ]
        }
      ]
    },
    {
      "cell_type": "markdown",
      "source": [
        "Here I am using a dataset for Modelfitting"
      ],
      "metadata": {
        "id": "tH026i7g3Vzj"
      }
    },
    {
      "cell_type": "code",
      "source": [
        "callbacks = [\n",
        "    keras.callbacks.ModelCheckpoint(\n",
        "        filepath=\"convnet_from_scratch.keras\",\n",
        "        save_best_only=True,\n",
        "        monitor=\"val_loss\")\n",
        "]\n",
        "history = model.fit(\n",
        "    train_dataset,\n",
        "    epochs=30,\n",
        "    validation_data=validation_dataset,\n",
        "    callbacks=callbacks)"
      ],
      "metadata": {
        "id": "v027JMYBk6IW",
        "outputId": "9dc3693f-e235-48fc-e6b7-e3bfcfed147d",
        "colab": {
          "base_uri": "https://localhost:8080/"
        }
      },
      "execution_count": null,
      "outputs": [
        {
          "output_type": "stream",
          "name": "stdout",
          "text": [
            "Epoch 1/30\n",
            "63/63 [==============================] - 16s 86ms/step - loss: 0.7063 - accuracy: 0.5050 - val_loss: 0.6861 - val_accuracy: 0.5990\n",
            "Epoch 2/30\n",
            "63/63 [==============================] - 5s 74ms/step - loss: 0.7045 - accuracy: 0.5250 - val_loss: 0.6820 - val_accuracy: 0.5120\n",
            "Epoch 3/30\n",
            "63/63 [==============================] - 5s 73ms/step - loss: 0.6865 - accuracy: 0.6030 - val_loss: 0.6553 - val_accuracy: 0.5880\n",
            "Epoch 4/30\n",
            "63/63 [==============================] - 5s 73ms/step - loss: 0.6397 - accuracy: 0.6390 - val_loss: 0.6369 - val_accuracy: 0.6310\n",
            "Epoch 5/30\n",
            "63/63 [==============================] - 5s 74ms/step - loss: 0.6024 - accuracy: 0.6845 - val_loss: 0.6163 - val_accuracy: 0.6450\n",
            "Epoch 6/30\n",
            "63/63 [==============================] - 5s 76ms/step - loss: 0.5683 - accuracy: 0.7110 - val_loss: 0.5657 - val_accuracy: 0.7060\n",
            "Epoch 7/30\n",
            "63/63 [==============================] - 5s 77ms/step - loss: 0.5529 - accuracy: 0.7205 - val_loss: 0.7636 - val_accuracy: 0.6020\n",
            "Epoch 8/30\n",
            "63/63 [==============================] - 5s 72ms/step - loss: 0.5257 - accuracy: 0.7330 - val_loss: 0.6226 - val_accuracy: 0.6690\n",
            "Epoch 9/30\n",
            "63/63 [==============================] - 5s 73ms/step - loss: 0.4813 - accuracy: 0.7680 - val_loss: 0.5704 - val_accuracy: 0.7300\n",
            "Epoch 10/30\n",
            "63/63 [==============================] - 5s 74ms/step - loss: 0.4704 - accuracy: 0.7880 - val_loss: 0.5497 - val_accuracy: 0.7240\n",
            "Epoch 11/30\n",
            "63/63 [==============================] - 5s 74ms/step - loss: 0.4267 - accuracy: 0.7980 - val_loss: 0.5526 - val_accuracy: 0.7400\n",
            "Epoch 12/30\n",
            "63/63 [==============================] - 5s 75ms/step - loss: 0.3851 - accuracy: 0.8250 - val_loss: 0.5367 - val_accuracy: 0.7280\n",
            "Epoch 13/30\n",
            "63/63 [==============================] - 5s 73ms/step - loss: 0.3521 - accuracy: 0.8450 - val_loss: 0.5477 - val_accuracy: 0.7480\n",
            "Epoch 14/30\n",
            "63/63 [==============================] - 5s 74ms/step - loss: 0.2792 - accuracy: 0.8830 - val_loss: 0.7982 - val_accuracy: 0.7090\n",
            "Epoch 15/30\n",
            "63/63 [==============================] - 5s 73ms/step - loss: 0.2741 - accuracy: 0.8790 - val_loss: 0.6735 - val_accuracy: 0.7480\n",
            "Epoch 16/30\n",
            "63/63 [==============================] - 5s 73ms/step - loss: 0.2434 - accuracy: 0.9050 - val_loss: 0.7260 - val_accuracy: 0.7030\n",
            "Epoch 17/30\n",
            "63/63 [==============================] - 5s 74ms/step - loss: 0.1832 - accuracy: 0.9295 - val_loss: 0.8501 - val_accuracy: 0.7250\n",
            "Epoch 18/30\n",
            "63/63 [==============================] - 5s 72ms/step - loss: 0.1723 - accuracy: 0.9325 - val_loss: 0.8065 - val_accuracy: 0.7620\n",
            "Epoch 19/30\n",
            "63/63 [==============================] - 5s 72ms/step - loss: 0.1340 - accuracy: 0.9455 - val_loss: 1.0318 - val_accuracy: 0.7550\n",
            "Epoch 20/30\n",
            "63/63 [==============================] - 5s 73ms/step - loss: 0.1343 - accuracy: 0.9515 - val_loss: 0.8713 - val_accuracy: 0.7870\n",
            "Epoch 21/30\n",
            "63/63 [==============================] - 5s 71ms/step - loss: 0.1213 - accuracy: 0.9520 - val_loss: 0.8626 - val_accuracy: 0.7670\n",
            "Epoch 22/30\n",
            "63/63 [==============================] - 5s 73ms/step - loss: 0.0927 - accuracy: 0.9685 - val_loss: 1.1604 - val_accuracy: 0.7490\n",
            "Epoch 23/30\n",
            "63/63 [==============================] - 5s 73ms/step - loss: 0.1032 - accuracy: 0.9625 - val_loss: 1.1183 - val_accuracy: 0.7610\n",
            "Epoch 24/30\n",
            "63/63 [==============================] - 5s 73ms/step - loss: 0.1002 - accuracy: 0.9630 - val_loss: 1.3214 - val_accuracy: 0.7390\n",
            "Epoch 25/30\n",
            "63/63 [==============================] - 5s 73ms/step - loss: 0.0719 - accuracy: 0.9700 - val_loss: 1.1979 - val_accuracy: 0.7370\n",
            "Epoch 26/30\n",
            "63/63 [==============================] - 5s 73ms/step - loss: 0.0804 - accuracy: 0.9680 - val_loss: 1.2195 - val_accuracy: 0.7470\n",
            "Epoch 27/30\n",
            "63/63 [==============================] - 5s 72ms/step - loss: 0.0829 - accuracy: 0.9745 - val_loss: 1.2575 - val_accuracy: 0.7560\n",
            "Epoch 28/30\n",
            "63/63 [==============================] - 5s 73ms/step - loss: 0.0806 - accuracy: 0.9725 - val_loss: 1.6793 - val_accuracy: 0.7180\n",
            "Epoch 29/30\n",
            "63/63 [==============================] - 5s 73ms/step - loss: 0.0630 - accuracy: 0.9785 - val_loss: 1.3276 - val_accuracy: 0.7570\n",
            "Epoch 30/30\n",
            "63/63 [==============================] - 6s 99ms/step - loss: 0.0518 - accuracy: 0.9810 - val_loss: 1.4912 - val_accuracy: 0.7540\n"
          ]
        }
      ]
    },
    {
      "cell_type": "markdown",
      "source": [
        "Displaying the training-related loss and accuracy plots"
      ],
      "metadata": {
        "id": "Y5S5Fc-03xF-"
      }
    },
    {
      "cell_type": "code",
      "source": [
        "import matplotlib.pyplot as plt\n",
        "plt.figure(figsize=(10,10))\n",
        "accuracy = history.history[\"accuracy\"]\n",
        "val_accuracy = history.history[\"val_accuracy\"]\n",
        "loss = history.history[\"loss\"]\n",
        "val_loss = history.history[\"val_loss\"]\n",
        "epochs = range(1, len(accuracy) + 1)\n",
        "plt.plot(epochs, accuracy, \"bo\", label=\"Training accuracy\")\n",
        "plt.plot(epochs, val_accuracy, \"b\", label=\"Validation accuracy\")\n",
        "plt.title(\"Training and validation accuracy\")\n",
        "plt.legend()\n",
        "plt.figure()\n",
        "plt.figure(figsize=(10,10))\n",
        "plt.plot(epochs, loss, \"bo\", label=\"Training loss\")\n",
        "plt.plot(epochs, val_loss, \"b\", label=\"Validation loss\")\n",
        "plt.title(\"Training and validation loss\")\n",
        "plt.legend()\n",
        "plt.show()"
      ],
      "metadata": {
        "id": "toAUsx39lkCc",
        "outputId": "759a470f-3913-4057-b7de-eb582ffc96f5",
        "colab": {
          "base_uri": "https://localhost:8080/",
          "height": 1000
        }
      },
      "execution_count": null,
      "outputs": [
        {
          "output_type": "display_data",
          "data": {
            "text/plain": [
              "<Figure size 720x720 with 1 Axes>"
            ],
            "image/png": "[encoded data removed]"
          },
          "metadata": {
            "needs_background": "light"
          }
        },
        {
          "output_type": "display_data",
          "data": {
            "text/plain": [
              "<Figure size 432x288 with 0 Axes>"
            ]
          },
          "metadata": {}
        },
        {
          "output_type": "display_data",
          "data": {
            "text/plain": [
              "<Figure size 720x720 with 1 Axes>"
            ],
            "image/png": "[encoded data removed]"
          },
          "metadata": {
            "needs_background": "light"
          }
        }
      ]
    },
    {
      "cell_type": "markdown",
      "source": [
        "Model evaluation using the test set"
      ],
      "metadata": {
        "id": "WQB2-8Ty77Gx"
      }
    },
    {
      "cell_type": "code",
      "source": [
        "test_model = keras.models.load_model(\"convnet_from_scratch.keras\")\n",
        "test_loss, test_acc = test_model.evaluate(test_dataset)\n",
        "print(f\"Test accuracy: {test_acc:.3f}\")"
      ],
      "metadata": {
        "id": "f4I6I3bDlmmU",
        "outputId": "91887f08-d6f3-4447-885e-db6e3fd37046",
        "colab": {
          "base_uri": "https://localhost:8080/"
        }
      },
      "execution_count": null,
      "outputs": [
        {
          "output_type": "stream",
          "name": "stdout",
          "text": [
            "32/32 [==============================] - 2s 36ms/step - loss: 0.6307 - accuracy: 0.7160\n",
            "Test accuracy: 0.716\n"
          ]
        }
      ]
    },
    {
      "cell_type": "markdown",
      "source": [
        "Here we got \n",
        "Training accuracy : 98.1%\n",
        "Validation accuracy : 75.4%\n",
        "Test accuracy :  71.6%\n"
      ],
      "metadata": {
        "id": "uNK9C6Fi8NED"
      }
    },
    {
      "cell_type": "markdown",
      "source": [
        "2.2. Increase your training sample size. You may pick any amount. Keep the validation and test \n",
        "samples the same as above. Optimize your network (again training from scratch). What \n",
        "performance did you achieve? "
      ],
      "metadata": {
        "id": "1dz2Asta9mPS"
      }
    },
    {
      "cell_type": "markdown",
      "source": [
        "Using data augmentation : Establishing a data augmentation stage to be added to an image model"
      ],
      "metadata": {
        "id": "75Z8Qc8y9ucc"
      }
    },
    {
      "cell_type": "code",
      "source": [
        "import os, shutil, pathlib\n",
        "\n",
        "shutil.rmtree(\"./cats_vs_dogs_small_Q2\", ignore_errors=True)\n",
        "\n",
        "original_dir = pathlib.Path(\"train\")\n",
        "new_base_dir = pathlib.Path(\"cats_vs_dogs_small_Q2\")\n",
        "\n",
        "def make_subset(subset_name, start_index, end_index):\n",
        "    for category in (\"cat\", \"dog\"):\n",
        "        dir = new_base_dir / subset_name / category\n",
        "        os.makedirs(dir)\n",
        "        fnames = [f\"{category}.{i}.jpg\" for i in range(start_index, end_index)]\n",
        "        for fname in fnames:\n",
        "            shutil.copyfile(src=original_dir / fname,\n",
        "                            dst=dir / fname)\n",
        "#Here I have increased training sample size to 1500 and keeping the validation and test sample size to 500 each as before\n",
        "make_subset(\"train\", start_index=0, end_index=1500)\n",
        "make_subset(\"validation\", start_index=1500, end_index=2000)\n",
        "make_subset(\"test\", start_index=2000, end_index=2500)"
      ],
      "metadata": {
        "id": "-tlNErCIltBS"
      },
      "execution_count": null,
      "outputs": []
    },
    {
      "cell_type": "code",
      "source": [
        "data_augmentation = keras.Sequential(\n",
        "    [\n",
        "        layers.RandomFlip(\"horizontal\"),\n",
        "        layers.RandomRotation(0.1),\n",
        "        layers.RandomZoom(0.2),\n",
        "    ]\n",
        ")"
      ],
      "metadata": {
        "id": "IPlr61cylyKT"
      },
      "execution_count": null,
      "outputs": []
    },
    {
      "cell_type": "markdown",
      "source": [
        "Here I am displaying few randomly augmented training images"
      ],
      "metadata": {
        "id": "ixY3Grh9-gS1"
      }
    },
    {
      "cell_type": "code",
      "source": [
        "plt.figure(figsize=(10, 10))\n",
        "for images, _ in train_dataset.take(1):\n",
        "    for i in range(9):\n",
        "        augmented_images = data_augmentation(images)\n",
        "        ax = plt.subplot(3, 3, i + 1)\n",
        "        plt.imshow(augmented_images[0].numpy().astype(\"uint8\"))\n",
        "        plt.axis(\"off\")"
      ],
      "metadata": {
        "id": "uye-ZPepl0LZ",
        "outputId": "4e686373-3d78-4622-f02b-9e18ec43ac74",
        "colab": {
          "base_uri": "https://localhost:8080/",
          "height": 575
        }
      },
      "execution_count": null,
      "outputs": [
        {
          "output_type": "display_data",
          "data": {
            "text/plain": [
              "<Figure size 720x720 with 9 Axes>"
            ],
            "image/png": "[encoded data removed]"
          },
          "metadata": {
            "needs_background": "light"
          }
        }
      ]
    },
    {
      "cell_type": "markdown",
      "source": [
        "Now I am defining a new convolutional netwrok that has image augmentation and dropout"
      ],
      "metadata": {
        "id": "Cn5bA_Iv-tf2"
      }
    },
    {
      "cell_type": "code",
      "source": [
        "inputs = keras.Input(shape=(180, 180, 3))\n",
        "x = data_augmentation(inputs)\n",
        "x = layers.Rescaling(1./255)(x)\n",
        "x = layers.Conv2D(filters=32, kernel_size=3, activation=\"relu\")(x)\n",
        "x = layers.MaxPooling2D(pool_size=2)(x)\n",
        "x = layers.Conv2D(filters=64, kernel_size=3, activation=\"relu\")(x)\n",
        "x = layers.MaxPooling2D(pool_size=2)(x)\n",
        "x = layers.Conv2D(filters=128, kernel_size=3, activation=\"relu\")(x)\n",
        "x = layers.MaxPooling2D(pool_size=2)(x)\n",
        "x = layers.Conv2D(filters=256, kernel_size=3, activation=\"relu\")(x)\n",
        "x = layers.MaxPooling2D(pool_size=2)(x)\n",
        "x = layers.Conv2D(filters=256, kernel_size=3, activation=\"relu\")(x)\n",
        "x = layers.Flatten()(x)\n",
        "x = layers.Dropout(0.5)(x)\n",
        "outputs = layers.Dense(1, activation=\"sigmoid\")(x)\n",
        "model = keras.Model(inputs=inputs, outputs=outputs)\n",
        "\n",
        "model.compile(loss=\"binary_crossentropy\",\n",
        "              optimizer=\"rmsprop\",\n",
        "              metrics=[\"accuracy\"])"
      ],
      "metadata": {
        "id": "Vooo1ZnFl3jO"
      },
      "execution_count": null,
      "outputs": []
    },
    {
      "cell_type": "markdown",
      "source": [
        "Now I am training the regularized convolutional network"
      ],
      "metadata": {
        "id": "zHsmpaqC-5XA"
      }
    },
    {
      "cell_type": "code",
      "source": [
        "callbacks = [\n",
        "    keras.callbacks.ModelCheckpoint(\n",
        "        filepath=\"convnet_from_scratch_with_augmentation.keras\",\n",
        "        save_best_only=True,\n",
        "        monitor=\"val_loss\")\n",
        "]\n",
        "history = model.fit(\n",
        "    train_dataset,\n",
        "    epochs=50,\n",
        "    validation_data=validation_dataset,\n",
        "    callbacks=callbacks)"
      ],
      "metadata": {
        "id": "vNfTVV_Il5Gf",
        "outputId": "e9cf7f3f-ea37-4cbd-d49c-b6277d041ae3",
        "colab": {
          "base_uri": "https://localhost:8080/"
        }
      },
      "execution_count": null,
      "outputs": [
        {
          "output_type": "stream",
          "name": "stdout",
          "text": [
            "Epoch 1/50\n",
            "63/63 [==============================] - 8s 99ms/step - loss: 0.7327 - accuracy: 0.4840 - val_loss: 0.6925 - val_accuracy: 0.5000\n",
            "Epoch 2/50\n",
            "63/63 [==============================] - 7s 102ms/step - loss: 0.6949 - accuracy: 0.5075 - val_loss: 0.6900 - val_accuracy: 0.5070\n",
            "Epoch 3/50\n",
            "63/63 [==============================] - 6s 97ms/step - loss: 0.6943 - accuracy: 0.5375 - val_loss: 0.6777 - val_accuracy: 0.5650\n",
            "Epoch 4/50\n",
            "63/63 [==============================] - 6s 98ms/step - loss: 0.6660 - accuracy: 0.6000 - val_loss: 0.6637 - val_accuracy: 0.5720\n",
            "Epoch 5/50\n",
            "63/63 [==============================] - 6s 96ms/step - loss: 0.6574 - accuracy: 0.6205 - val_loss: 1.3795 - val_accuracy: 0.5040\n",
            "Epoch 6/50\n",
            "63/63 [==============================] - 6s 96ms/step - loss: 0.6333 - accuracy: 0.6655 - val_loss: 0.6298 - val_accuracy: 0.6310\n",
            "Epoch 7/50\n",
            "63/63 [==============================] - 6s 94ms/step - loss: 0.6173 - accuracy: 0.6605 - val_loss: 0.7845 - val_accuracy: 0.5260\n",
            "Epoch 8/50\n",
            "63/63 [==============================] - 6s 95ms/step - loss: 0.6171 - accuracy: 0.6595 - val_loss: 0.6475 - val_accuracy: 0.6310\n",
            "Epoch 9/50\n",
            "63/63 [==============================] - 7s 112ms/step - loss: 0.6087 - accuracy: 0.6855 - val_loss: 0.5889 - val_accuracy: 0.6710\n",
            "Epoch 10/50\n",
            "63/63 [==============================] - 7s 103ms/step - loss: 0.5873 - accuracy: 0.6890 - val_loss: 0.5714 - val_accuracy: 0.6940\n",
            "Epoch 11/50\n",
            "63/63 [==============================] - 6s 96ms/step - loss: 0.5759 - accuracy: 0.6925 - val_loss: 0.5271 - val_accuracy: 0.7360\n",
            "Epoch 12/50\n",
            "63/63 [==============================] - 6s 95ms/step - loss: 0.5557 - accuracy: 0.7225 - val_loss: 0.5408 - val_accuracy: 0.7350\n",
            "Epoch 13/50\n",
            "63/63 [==============================] - 6s 97ms/step - loss: 0.5574 - accuracy: 0.7180 - val_loss: 0.5534 - val_accuracy: 0.6970\n",
            "Epoch 14/50\n",
            "63/63 [==============================] - 6s 95ms/step - loss: 0.5366 - accuracy: 0.7370 - val_loss: 0.5932 - val_accuracy: 0.7050\n",
            "Epoch 15/50\n",
            "63/63 [==============================] - 6s 96ms/step - loss: 0.5264 - accuracy: 0.7360 - val_loss: 0.5734 - val_accuracy: 0.7200\n",
            "Epoch 16/50\n",
            "63/63 [==============================] - 6s 96ms/step - loss: 0.5133 - accuracy: 0.7525 - val_loss: 0.5062 - val_accuracy: 0.7450\n",
            "Epoch 17/50\n",
            "63/63 [==============================] - 6s 95ms/step - loss: 0.5121 - accuracy: 0.7490 - val_loss: 0.4877 - val_accuracy: 0.7440\n",
            "Epoch 18/50\n",
            "63/63 [==============================] - 6s 96ms/step - loss: 0.4989 - accuracy: 0.7550 - val_loss: 0.4948 - val_accuracy: 0.7520\n",
            "Epoch 19/50\n",
            "63/63 [==============================] - 6s 97ms/step - loss: 0.4735 - accuracy: 0.7710 - val_loss: 0.5829 - val_accuracy: 0.7430\n",
            "Epoch 20/50\n",
            "63/63 [==============================] - 6s 96ms/step - loss: 0.4739 - accuracy: 0.7830 - val_loss: 0.4931 - val_accuracy: 0.7690\n",
            "Epoch 21/50\n",
            "63/63 [==============================] - 6s 96ms/step - loss: 0.4702 - accuracy: 0.7845 - val_loss: 0.5184 - val_accuracy: 0.7630\n",
            "Epoch 22/50\n",
            "63/63 [==============================] - 6s 95ms/step - loss: 0.4566 - accuracy: 0.7895 - val_loss: 0.5108 - val_accuracy: 0.7670\n",
            "Epoch 23/50\n",
            "63/63 [==============================] - 6s 96ms/step - loss: 0.4601 - accuracy: 0.7880 - val_loss: 0.4727 - val_accuracy: 0.7840\n",
            "Epoch 24/50\n",
            "63/63 [==============================] - 6s 95ms/step - loss: 0.4365 - accuracy: 0.7915 - val_loss: 0.4302 - val_accuracy: 0.8130\n",
            "Epoch 25/50\n",
            "63/63 [==============================] - 6s 95ms/step - loss: 0.4425 - accuracy: 0.8020 - val_loss: 0.4690 - val_accuracy: 0.7910\n",
            "Epoch 26/50\n",
            "63/63 [==============================] - 8s 116ms/step - loss: 0.4298 - accuracy: 0.8085 - val_loss: 0.4981 - val_accuracy: 0.7840\n",
            "Epoch 27/50\n",
            "63/63 [==============================] - 6s 95ms/step - loss: 0.4270 - accuracy: 0.8075 - val_loss: 0.5667 - val_accuracy: 0.7560\n",
            "Epoch 28/50\n",
            "63/63 [==============================] - 6s 97ms/step - loss: 0.4229 - accuracy: 0.8075 - val_loss: 0.6081 - val_accuracy: 0.7410\n",
            "Epoch 29/50\n",
            "63/63 [==============================] - 6s 93ms/step - loss: 0.4087 - accuracy: 0.8165 - val_loss: 0.4398 - val_accuracy: 0.8090\n",
            "Epoch 30/50\n",
            "63/63 [==============================] - 6s 97ms/step - loss: 0.3894 - accuracy: 0.8300 - val_loss: 0.5047 - val_accuracy: 0.7800\n",
            "Epoch 31/50\n",
            "63/63 [==============================] - 6s 95ms/step - loss: 0.3762 - accuracy: 0.8235 - val_loss: 0.5979 - val_accuracy: 0.7670\n",
            "Epoch 32/50\n",
            "63/63 [==============================] - 6s 98ms/step - loss: 0.3904 - accuracy: 0.8300 - val_loss: 0.4165 - val_accuracy: 0.8040\n",
            "Epoch 33/50\n",
            "63/63 [==============================] - 6s 98ms/step - loss: 0.3819 - accuracy: 0.8265 - val_loss: 0.4312 - val_accuracy: 0.8110\n",
            "Epoch 34/50\n",
            "63/63 [==============================] - 6s 96ms/step - loss: 0.3711 - accuracy: 0.8395 - val_loss: 0.5211 - val_accuracy: 0.8090\n",
            "Epoch 35/50\n",
            "63/63 [==============================] - 6s 94ms/step - loss: 0.3595 - accuracy: 0.8500 - val_loss: 0.6830 - val_accuracy: 0.7410\n",
            "Epoch 36/50\n",
            "63/63 [==============================] - 6s 94ms/step - loss: 0.3569 - accuracy: 0.8465 - val_loss: 0.8579 - val_accuracy: 0.7330\n",
            "Epoch 37/50\n",
            "63/63 [==============================] - 6s 97ms/step - loss: 0.3359 - accuracy: 0.8595 - val_loss: 0.4695 - val_accuracy: 0.8280\n",
            "Epoch 38/50\n",
            "63/63 [==============================] - 6s 96ms/step - loss: 0.3428 - accuracy: 0.8565 - val_loss: 0.4023 - val_accuracy: 0.8330\n",
            "Epoch 39/50\n",
            "63/63 [==============================] - 6s 97ms/step - loss: 0.3285 - accuracy: 0.8665 - val_loss: 0.5294 - val_accuracy: 0.7810\n",
            "Epoch 40/50\n",
            "63/63 [==============================] - 6s 97ms/step - loss: 0.3360 - accuracy: 0.8530 - val_loss: 0.3997 - val_accuracy: 0.8360\n",
            "Epoch 41/50\n",
            "63/63 [==============================] - 6s 97ms/step - loss: 0.3191 - accuracy: 0.8660 - val_loss: 0.4686 - val_accuracy: 0.7930\n",
            "Epoch 42/50\n",
            "63/63 [==============================] - 6s 95ms/step - loss: 0.3233 - accuracy: 0.8630 - val_loss: 0.4229 - val_accuracy: 0.8060\n",
            "Epoch 43/50\n",
            "63/63 [==============================] - 7s 109ms/step - loss: 0.2935 - accuracy: 0.8745 - val_loss: 0.5198 - val_accuracy: 0.8040\n",
            "Epoch 44/50\n",
            "63/63 [==============================] - 6s 96ms/step - loss: 0.2964 - accuracy: 0.8775 - val_loss: 0.4211 - val_accuracy: 0.8400\n",
            "Epoch 45/50\n",
            "63/63 [==============================] - 6s 98ms/step - loss: 0.3095 - accuracy: 0.8740 - val_loss: 0.6015 - val_accuracy: 0.7920\n",
            "Epoch 46/50\n",
            "63/63 [==============================] - 6s 97ms/step - loss: 0.3025 - accuracy: 0.8710 - val_loss: 0.4615 - val_accuracy: 0.8350\n",
            "Epoch 47/50\n",
            "63/63 [==============================] - 6s 98ms/step - loss: 0.3089 - accuracy: 0.8755 - val_loss: 0.4483 - val_accuracy: 0.8140\n",
            "Epoch 48/50\n",
            "63/63 [==============================] - 6s 97ms/step - loss: 0.2677 - accuracy: 0.8945 - val_loss: 0.4086 - val_accuracy: 0.8310\n",
            "Epoch 49/50\n",
            "63/63 [==============================] - 6s 94ms/step - loss: 0.2837 - accuracy: 0.8790 - val_loss: 0.4324 - val_accuracy: 0.8440\n",
            "Epoch 50/50\n",
            "63/63 [==============================] - 6s 96ms/step - loss: 0.2862 - accuracy: 0.8820 - val_loss: 0.4734 - val_accuracy: 0.8010\n"
          ]
        }
      ]
    },
    {
      "cell_type": "markdown",
      "source": [
        "Model evaluation using the test set"
      ],
      "metadata": {
        "id": "jc1kmq8Z_OQr"
      }
    },
    {
      "cell_type": "code",
      "source": [
        "test_model = keras.models.load_model(\n",
        "    \"convnet_from_scratch_with_augmentation.keras\")\n",
        "test_loss, test_acc = test_model.evaluate(test_dataset)\n",
        "print(f\"Test accuracy: {test_acc:.3f}\")"
      ],
      "metadata": {
        "id": "9Bn2241JngJ2",
        "outputId": "130ecbc9-6504-4532-c13c-ee59e9a30118",
        "colab": {
          "base_uri": "https://localhost:8080/"
        }
      },
      "execution_count": null,
      "outputs": [
        {
          "output_type": "stream",
          "name": "stdout",
          "text": [
            "32/32 [==============================] - 2s 39ms/step - loss: 0.4576 - accuracy: 0.8350\n",
            "Test accuracy: 0.835\n"
          ]
        }
      ]
    },
    {
      "cell_type": "markdown",
      "source": [
        "Here I got the \n",
        "Training accuracy: 88.2%\n",
        "validation accuracy:80.10%\n",
        "Test accuracy : 83.5%"
      ],
      "metadata": {
        "id": "XyByX1yX_SaD"
      }
    },
    {
      "cell_type": "markdown",
      "source": [
        "3. Now change your training sample so that you achieve better performance than those from Steps \n",
        "1 and 2. This sample size may be larger, or smaller than those in the previous steps. The \n",
        "objective is to find the ideal training sample size to get best prediction results."
      ],
      "metadata": {
        "id": "BsxTSRuE_x1x"
      }
    },
    {
      "cell_type": "code",
      "source": [
        "original_dir = pathlib.Path(\"train\")\n",
        "new_base_dir = pathlib.Path(\"cats_vs_dogs_small_Q3\")\n",
        "\n",
        "def make_subset(subset_name, start_index, end_index):\n",
        "    for category in (\"cat\", \"dog\"):\n",
        "        dir = new_base_dir / subset_name / category\n",
        "        os.makedirs(dir)\n",
        "        fnames = [f\"{category}.{i}.jpg\" for i in range(start_index, end_index)]\n",
        "        for fname in fnames:\n",
        "            shutil.copyfile(src=original_dir / fname,\n",
        "                            dst=dir / fname)\n",
        "#As increasing the sample size is always good than decreasing, here we're increasing the training the sample size to 2000\n",
        "make_subset(\"train\", start_index=0, end_index=2000)\n",
        "#validation and test sample size 500 each\n",
        "make_subset(\"validation\", start_index=2000, end_index=2500)\n",
        "make_subset(\"test\", start_index=2500, end_index=3000)"
      ],
      "metadata": {
        "id": "yOKuS3eynklC"
      },
      "execution_count": null,
      "outputs": []
    },
    {
      "cell_type": "code",
      "source": [
        "inputs = keras.Input(shape=(180, 180, 3))\n",
        "x = data_augmentation(inputs)\n",
        "x = layers.Rescaling(1./255)(x)\n",
        "x = layers.Conv2D(filters=32, kernel_size=3, activation=\"relu\")(x)\n",
        "x = layers.MaxPooling2D(pool_size=2)(x)\n",
        "x = layers.Conv2D(filters=64, kernel_size=3, activation=\"relu\")(x)\n",
        "x = layers.MaxPooling2D(pool_size=2)(x)\n",
        "x = layers.Conv2D(filters=128, kernel_size=3, activation=\"relu\")(x)\n",
        "x = layers.MaxPooling2D(pool_size=2)(x)\n",
        "x = layers.Conv2D(filters=256, kernel_size=3, activation=\"relu\")(x)\n",
        "x = layers.MaxPooling2D(pool_size=2)(x)\n",
        "x = layers.Conv2D(filters=256, kernel_size=3, activation=\"relu\")(x)\n",
        "x = layers.Flatten()(x)\n",
        "x = layers.Dropout(0.5)(x)\n",
        "outputs = layers.Dense(1, activation=\"sigmoid\")(x)\n",
        "model = keras.Model(inputs=inputs, outputs=outputs)\n",
        "\n",
        "model.compile(loss=\"binary_crossentropy\",\n",
        "              optimizer=\"adam\",\n",
        "              metrics=[\"accuracy\"])"
      ],
      "metadata": {
        "id": "LAVf7RarnpRb"
      },
      "execution_count": null,
      "outputs": []
    },
    {
      "cell_type": "code",
      "source": [
        "callbacks = [\n",
        "    keras.callbacks.ModelCheckpoint(\n",
        "        filepath=\"convnet_from_scratch_with_augmentation1.keras\",\n",
        "        save_best_only=True,\n",
        "        monitor=\"val_loss\")\n",
        "]\n",
        "history = model.fit(\n",
        "    train_dataset,\n",
        "    epochs=50,\n",
        "    validation_data=validation_dataset,\n",
        "    callbacks=callbacks)"
      ],
      "metadata": {
        "id": "kb3LBUwYnuQK",
        "outputId": "845e89e7-75b6-4c30-8821-389ae8ee6fe7",
        "colab": {
          "base_uri": "https://localhost:8080/"
        }
      },
      "execution_count": null,
      "outputs": [
        {
          "output_type": "stream",
          "name": "stdout",
          "text": [
            "Epoch 1/50\n",
            "63/63 [==============================] - 8s 98ms/step - loss: 0.6946 - accuracy: 0.5110 - val_loss: 0.6919 - val_accuracy: 0.5440\n",
            "Epoch 2/50\n",
            "63/63 [==============================] - 6s 95ms/step - loss: 0.6878 - accuracy: 0.5590 - val_loss: 0.6924 - val_accuracy: 0.4990\n",
            "Epoch 3/50\n",
            "63/63 [==============================] - 6s 96ms/step - loss: 0.6918 - accuracy: 0.5285 - val_loss: 0.6816 - val_accuracy: 0.5450\n",
            "Epoch 4/50\n",
            "63/63 [==============================] - 6s 96ms/step - loss: 0.6835 - accuracy: 0.5595 - val_loss: 0.6644 - val_accuracy: 0.5690\n",
            "Epoch 5/50\n",
            "63/63 [==============================] - 6s 97ms/step - loss: 0.6666 - accuracy: 0.6090 - val_loss: 0.6447 - val_accuracy: 0.6360\n",
            "Epoch 6/50\n",
            "63/63 [==============================] - 6s 97ms/step - loss: 0.6389 - accuracy: 0.6545 - val_loss: 0.6410 - val_accuracy: 0.5970\n",
            "Epoch 7/50\n",
            "63/63 [==============================] - 6s 95ms/step - loss: 0.6312 - accuracy: 0.6615 - val_loss: 0.6278 - val_accuracy: 0.6620\n",
            "Epoch 8/50\n",
            "63/63 [==============================] - 6s 95ms/step - loss: 0.6170 - accuracy: 0.6745 - val_loss: 0.6104 - val_accuracy: 0.6630\n",
            "Epoch 9/50\n",
            "63/63 [==============================] - 6s 97ms/step - loss: 0.6118 - accuracy: 0.6725 - val_loss: 0.6197 - val_accuracy: 0.6470\n",
            "Epoch 10/50\n",
            "63/63 [==============================] - 6s 95ms/step - loss: 0.6006 - accuracy: 0.6910 - val_loss: 0.5912 - val_accuracy: 0.6870\n",
            "Epoch 11/50\n",
            "63/63 [==============================] - 7s 105ms/step - loss: 0.5806 - accuracy: 0.7085 - val_loss: 0.5781 - val_accuracy: 0.6860\n",
            "Epoch 12/50\n",
            "63/63 [==============================] - 6s 96ms/step - loss: 0.5689 - accuracy: 0.7105 - val_loss: 0.5818 - val_accuracy: 0.6860\n",
            "Epoch 13/50\n",
            "63/63 [==============================] - 6s 96ms/step - loss: 0.5589 - accuracy: 0.7240 - val_loss: 0.5704 - val_accuracy: 0.7040\n",
            "Epoch 14/50\n",
            "63/63 [==============================] - 6s 97ms/step - loss: 0.5516 - accuracy: 0.7155 - val_loss: 0.5712 - val_accuracy: 0.6910\n",
            "Epoch 15/50\n",
            "63/63 [==============================] - 6s 96ms/step - loss: 0.5487 - accuracy: 0.7245 - val_loss: 0.5266 - val_accuracy: 0.7360\n",
            "Epoch 16/50\n",
            "63/63 [==============================] - 7s 112ms/step - loss: 0.5302 - accuracy: 0.7485 - val_loss: 0.5319 - val_accuracy: 0.7300\n",
            "Epoch 17/50\n",
            "63/63 [==============================] - 6s 95ms/step - loss: 0.5173 - accuracy: 0.7460 - val_loss: 0.5333 - val_accuracy: 0.7340\n",
            "Epoch 18/50\n",
            "63/63 [==============================] - 6s 95ms/step - loss: 0.5067 - accuracy: 0.7550 - val_loss: 0.5283 - val_accuracy: 0.7350\n",
            "Epoch 19/50\n",
            "63/63 [==============================] - 6s 96ms/step - loss: 0.4992 - accuracy: 0.7495 - val_loss: 0.5301 - val_accuracy: 0.7310\n",
            "Epoch 20/50\n",
            "63/63 [==============================] - 8s 122ms/step - loss: 0.5044 - accuracy: 0.7550 - val_loss: 0.4806 - val_accuracy: 0.7690\n",
            "Epoch 21/50\n",
            "63/63 [==============================] - 7s 111ms/step - loss: 0.4837 - accuracy: 0.7720 - val_loss: 0.5536 - val_accuracy: 0.7300\n",
            "Epoch 22/50\n",
            "63/63 [==============================] - 7s 108ms/step - loss: 0.4826 - accuracy: 0.7725 - val_loss: 0.4866 - val_accuracy: 0.7760\n",
            "Epoch 23/50\n",
            "63/63 [==============================] - 8s 127ms/step - loss: 0.4709 - accuracy: 0.7775 - val_loss: 0.4753 - val_accuracy: 0.7720\n",
            "Epoch 24/50\n",
            "63/63 [==============================] - 6s 96ms/step - loss: 0.4837 - accuracy: 0.7645 - val_loss: 0.4719 - val_accuracy: 0.7650\n",
            "Epoch 25/50\n",
            "63/63 [==============================] - 6s 96ms/step - loss: 0.4336 - accuracy: 0.7960 - val_loss: 0.4577 - val_accuracy: 0.7840\n",
            "Epoch 26/50\n",
            "63/63 [==============================] - 7s 107ms/step - loss: 0.4378 - accuracy: 0.7960 - val_loss: 0.5008 - val_accuracy: 0.7500\n",
            "Epoch 27/50\n",
            "63/63 [==============================] - 7s 108ms/step - loss: 0.4406 - accuracy: 0.7960 - val_loss: 0.4501 - val_accuracy: 0.7770\n",
            "Epoch 28/50\n",
            "63/63 [==============================] - 9s 131ms/step - loss: 0.4355 - accuracy: 0.7895 - val_loss: 0.4287 - val_accuracy: 0.7880\n",
            "Epoch 29/50\n",
            "63/63 [==============================] - 6s 97ms/step - loss: 0.4145 - accuracy: 0.8080 - val_loss: 0.4789 - val_accuracy: 0.7760\n",
            "Epoch 30/50\n",
            "63/63 [==============================] - 6s 97ms/step - loss: 0.4050 - accuracy: 0.8070 - val_loss: 0.4288 - val_accuracy: 0.8030\n",
            "Epoch 31/50\n",
            "63/63 [==============================] - 7s 111ms/step - loss: 0.4033 - accuracy: 0.8215 - val_loss: 0.4205 - val_accuracy: 0.8030\n",
            "Epoch 32/50\n",
            "63/63 [==============================] - 6s 96ms/step - loss: 0.3966 - accuracy: 0.8210 - val_loss: 0.4225 - val_accuracy: 0.8050\n",
            "Epoch 33/50\n",
            "63/63 [==============================] - 6s 94ms/step - loss: 0.3918 - accuracy: 0.8180 - val_loss: 0.4274 - val_accuracy: 0.8080\n",
            "Epoch 34/50\n",
            "63/63 [==============================] - 6s 97ms/step - loss: 0.3604 - accuracy: 0.8405 - val_loss: 0.4462 - val_accuracy: 0.7980\n",
            "Epoch 35/50\n",
            "63/63 [==============================] - 6s 96ms/step - loss: 0.3722 - accuracy: 0.8355 - val_loss: 0.4087 - val_accuracy: 0.8140\n",
            "Epoch 36/50\n",
            "63/63 [==============================] - 6s 96ms/step - loss: 0.3464 - accuracy: 0.8370 - val_loss: 0.4654 - val_accuracy: 0.7960\n",
            "Epoch 37/50\n",
            "63/63 [==============================] - 6s 96ms/step - loss: 0.3517 - accuracy: 0.8400 - val_loss: 0.4502 - val_accuracy: 0.7990\n",
            "Epoch 38/50\n",
            "63/63 [==============================] - 6s 97ms/step - loss: 0.3642 - accuracy: 0.8395 - val_loss: 0.4367 - val_accuracy: 0.8000\n",
            "Epoch 39/50\n",
            "63/63 [==============================] - 6s 97ms/step - loss: 0.3361 - accuracy: 0.8500 - val_loss: 0.5283 - val_accuracy: 0.7860\n",
            "Epoch 40/50\n",
            "63/63 [==============================] - 6s 94ms/step - loss: 0.3399 - accuracy: 0.8505 - val_loss: 0.4562 - val_accuracy: 0.7970\n",
            "Epoch 41/50\n",
            "63/63 [==============================] - 6s 94ms/step - loss: 0.3304 - accuracy: 0.8595 - val_loss: 0.4384 - val_accuracy: 0.8190\n",
            "Epoch 42/50\n",
            "63/63 [==============================] - 6s 95ms/step - loss: 0.3297 - accuracy: 0.8550 - val_loss: 0.4347 - val_accuracy: 0.8130\n",
            "Epoch 43/50\n",
            "63/63 [==============================] - 7s 102ms/step - loss: 0.2984 - accuracy: 0.8730 - val_loss: 0.4523 - val_accuracy: 0.8100\n",
            "Epoch 44/50\n",
            "63/63 [==============================] - 6s 96ms/step - loss: 0.3030 - accuracy: 0.8695 - val_loss: 0.4541 - val_accuracy: 0.8090\n",
            "Epoch 45/50\n",
            "63/63 [==============================] - 6s 95ms/step - loss: 0.3049 - accuracy: 0.8665 - val_loss: 0.4104 - val_accuracy: 0.8250\n",
            "Epoch 46/50\n",
            "63/63 [==============================] - 6s 97ms/step - loss: 0.3040 - accuracy: 0.8630 - val_loss: 0.4595 - val_accuracy: 0.8080\n",
            "Epoch 47/50\n",
            "63/63 [==============================] - 6s 98ms/step - loss: 0.3255 - accuracy: 0.8610 - val_loss: 0.4477 - val_accuracy: 0.7960\n",
            "Epoch 48/50\n",
            "63/63 [==============================] - 6s 96ms/step - loss: 0.3189 - accuracy: 0.8640 - val_loss: 0.4498 - val_accuracy: 0.8070\n",
            "Epoch 49/50\n",
            "63/63 [==============================] - 7s 101ms/step - loss: 0.2967 - accuracy: 0.8730 - val_loss: 0.4443 - val_accuracy: 0.8190\n",
            "Epoch 50/50\n",
            "63/63 [==============================] - 7s 101ms/step - loss: 0.2716 - accuracy: 0.8885 - val_loss: 0.4434 - val_accuracy: 0.8210\n"
          ]
        }
      ]
    },
    {
      "cell_type": "markdown",
      "source": [
        "Model evaluation using the test set"
      ],
      "metadata": {
        "id": "y9mwt_XVAD9i"
      }
    },
    {
      "cell_type": "code",
      "source": [
        "test_model = keras.models.load_model(\n",
        "    \"convnet_from_scratch_with_augmentation1.keras\")\n",
        "test_loss, test_acc = test_model.evaluate(test_dataset)\n",
        "print(f\"Test accuracy: {test_acc:.3f}\")"
      ],
      "metadata": {
        "id": "nRJec6aTpXdz",
        "outputId": "73ef1d93-424f-4bdb-f253-48c2d284416f",
        "colab": {
          "base_uri": "https://localhost:8080/"
        }
      },
      "execution_count": null,
      "outputs": [
        {
          "output_type": "stream",
          "name": "stdout",
          "text": [
            "32/32 [==============================] - 2s 37ms/step - loss: 0.4756 - accuracy: 0.8070\n",
            "Test accuracy: 0.807\n"
          ]
        }
      ]
    },
    {
      "cell_type": "markdown",
      "source": [
        "Here I got the \n",
        "Training accuracy:80.80%\n",
        "Validation accuracy:77.60%\n",
        "Test accuracy:80.7%"
      ],
      "metadata": {
        "id": "qEOVFcmNAIH8"
      }
    },
    {
      "cell_type": "markdown",
      "source": [
        "4. Repeat Steps 1-3, but now using a pretrained network. The sample sizes you use in Steps 2 and 3 \n",
        "for the pretrained network may be the same or different from those using the network where \n",
        "you trained from scratch. Again, use any and all optimization techniques to get best \n",
        "performance. "
      ],
      "metadata": {
        "id": "osAopSOBAw7y"
      }
    },
    {
      "cell_type": "markdown",
      "source": [
        "Instantiating the VGG16 convolutional base"
      ],
      "metadata": {
        "id": "EltqYA2iA6ue"
      }
    },
    {
      "cell_type": "code",
      "source": [
        "conv_base = keras.applications.vgg16.VGG16(\n",
        "    weights=\"imagenet\",\n",
        "    include_top=False,\n",
        "    input_shape=(180, 180, 3))"
      ],
      "metadata": {
        "id": "jD5LD0gQpeBI",
        "outputId": "a223594f-fb1b-4c95-b350-60a4a4bd79d3",
        "colab": {
          "base_uri": "https://localhost:8080/"
        }
      },
      "execution_count": null,
      "outputs": [
        {
          "output_type": "stream",
          "name": "stdout",
          "text": [
            "Downloading data from https://storage.googleapis.com/tensorflow/keras-applications/vgg16/vgg16_weights_tf_dim_ordering_tf_kernels_notop.h5\n",
            "58889256/58889256 [==============================] - 0s 0us/step\n"
          ]
        }
      ]
    },
    {
      "cell_type": "code",
      "source": [
        "conv_base.summary()"
      ],
      "metadata": {
        "id": "hCCf7l0npi-w",
        "outputId": "9a6a8295-0af6-4664-c112-9a83f6efaef1",
        "colab": {
          "base_uri": "https://localhost:8080/"
        }
      },
      "execution_count": null,
      "outputs": [
        {
          "output_type": "stream",
          "name": "stdout",
          "text": [
            "Model: \"vgg16\"\n",
            "_________________________________________________________________\n",
            " Layer (type)                Output Shape              Param #   \n",
            "=================================================================\n",
            " input_4 (InputLayer)        [(None, 180, 180, 3)]     0         \n",
            "                                                                 \n",
            " block1_conv1 (Conv2D)       (None, 180, 180, 64)      1792      \n",
            "                                                                 \n",
            " block1_conv2 (Conv2D)       (None, 180, 180, 64)      36928     \n",
            "                                                                 \n",
            " block1_pool (MaxPooling2D)  (None, 90, 90, 64)        0         \n",
            "                                                                 \n",
            " block2_conv1 (Conv2D)       (None, 90, 90, 128)       73856     \n",
            "                                                                 \n",
            " block2_conv2 (Conv2D)       (None, 90, 90, 128)       147584    \n",
            "                                                                 \n",
            " block2_pool (MaxPooling2D)  (None, 45, 45, 128)       0         \n",
            "                                                                 \n",
            " block3_conv1 (Conv2D)       (None, 45, 45, 256)       295168    \n",
            "                                                                 \n",
            " block3_conv2 (Conv2D)       (None, 45, 45, 256)       590080    \n",
            "                                                                 \n",
            " block3_conv3 (Conv2D)       (None, 45, 45, 256)       590080    \n",
            "                                                                 \n",
            " block3_pool (MaxPooling2D)  (None, 22, 22, 256)       0         \n",
            "                                                                 \n",
            " block4_conv1 (Conv2D)       (None, 22, 22, 512)       1180160   \n",
            "                                                                 \n",
            " block4_conv2 (Conv2D)       (None, 22, 22, 512)       2359808   \n",
            "                                                                 \n",
            " block4_conv3 (Conv2D)       (None, 22, 22, 512)       2359808   \n",
            "                                                                 \n",
            " block4_pool (MaxPooling2D)  (None, 11, 11, 512)       0         \n",
            "                                                                 \n",
            " block5_conv1 (Conv2D)       (None, 11, 11, 512)       2359808   \n",
            "                                                                 \n",
            " block5_conv2 (Conv2D)       (None, 11, 11, 512)       2359808   \n",
            "                                                                 \n",
            " block5_conv3 (Conv2D)       (None, 11, 11, 512)       2359808   \n",
            "                                                                 \n",
            " block5_pool (MaxPooling2D)  (None, 5, 5, 512)         0         \n",
            "                                                                 \n",
            "=================================================================\n",
            "Total params: 14,714,688\n",
            "Trainable params: 14,714,688\n",
            "Non-trainable params: 0\n",
            "_________________________________________________________________\n"
          ]
        }
      ]
    },
    {
      "cell_type": "markdown",
      "source": [
        "Quick feature extraction , without enhancing the data\n",
        "\n",
        "Here I am extracting the VGG16 features and corresponding labels"
      ],
      "metadata": {
        "id": "xbw9W9gfBFe2"
      }
    },
    {
      "cell_type": "code",
      "source": [
        "import numpy as np\n",
        "\n",
        "def get_features_and_labels(dataset):\n",
        "    all_features = []\n",
        "    all_labels = []\n",
        "    for images, labels in dataset:\n",
        "        preprocessed_images = keras.applications.vgg16.preprocess_input(images)\n",
        "        features = conv_base.predict(preprocessed_images)\n",
        "        all_features.append(features)\n",
        "        all_labels.append(labels)\n",
        "    return np.concatenate(all_features), np.concatenate(all_labels)\n",
        "\n",
        "train_features, train_labels =  get_features_and_labels(train_dataset)\n",
        "val_features, val_labels =  get_features_and_labels(validation_dataset)\n",
        "test_features, test_labels =  get_features_and_labels(test_dataset)"
      ],
      "metadata": {
        "id": "2T5iLX6ipnhx",
        "outputId": "a97e0782-d762-44e1-d223-3aabe0539c28",
        "colab": {
          "base_uri": "https://localhost:8080/"
        }
      },
      "execution_count": null,
      "outputs": [
        {
          "output_type": "stream",
          "name": "stdout",
          "text": [
            "1/1 [==============================] - 2s 2s/step\n",
            "1/1 [==============================] - 0s 26ms/step\n",
            "1/1 [==============================] - 0s 29ms/step\n",
            "1/1 [==============================] - 0s 28ms/step\n",
            "1/1 [==============================] - 0s 30ms/step\n",
            "1/1 [==============================] - 0s 34ms/step\n",
            "1/1 [==============================] - 0s 27ms/step\n",
            "1/1 [==============================] - 0s 27ms/step\n",
            "1/1 [==============================] - 0s 22ms/step\n",
            "1/1 [==============================] - 0s 22ms/step\n",
            "1/1 [==============================] - 0s 29ms/step\n",
            "1/1 [==============================] - 0s 22ms/step\n",
            "1/1 [==============================] - 0s 25ms/step\n",
            "1/1 [==============================] - 0s 24ms/step\n",
            "1/1 [==============================] - 0s 31ms/step\n",
            "1/1 [==============================] - 0s 29ms/step\n",
            "1/1 [==============================] - 0s 28ms/step\n",
            "1/1 [==============================] - 0s 29ms/step\n",
            "1/1 [==============================] - 0s 26ms/step\n",
            "1/1 [==============================] - 0s 23ms/step\n",
            "1/1 [==============================] - 0s 25ms/step\n",
            "1/1 [==============================] - 0s 24ms/step\n",
            "1/1 [==============================] - 0s 22ms/step\n",
            "1/1 [==============================] - 0s 23ms/step\n",
            "1/1 [==============================] - 0s 25ms/step\n",
            "1/1 [==============================] - 0s 31ms/step\n",
            "1/1 [==============================] - 0s 29ms/step\n",
            "1/1 [==============================] - 0s 25ms/step\n",
            "1/1 [==============================] - 0s 28ms/step\n",
            "1/1 [==============================] - 0s 26ms/step\n",
            "1/1 [==============================] - 0s 22ms/step\n",
            "1/1 [==============================] - 0s 25ms/step\n",
            "1/1 [==============================] - 0s 22ms/step\n",
            "1/1 [==============================] - 0s 24ms/step\n",
            "1/1 [==============================] - 0s 22ms/step\n",
            "1/1 [==============================] - 0s 31ms/step\n",
            "1/1 [==============================] - 0s 24ms/step\n",
            "1/1 [==============================] - 0s 22ms/step\n",
            "1/1 [==============================] - 0s 22ms/step\n",
            "1/1 [==============================] - 0s 31ms/step\n",
            "1/1 [==============================] - 0s 26ms/step\n",
            "1/1 [==============================] - 0s 23ms/step\n",
            "1/1 [==============================] - 0s 24ms/step\n",
            "1/1 [==============================] - 0s 23ms/step\n",
            "1/1 [==============================] - 0s 24ms/step\n",
            "1/1 [==============================] - 0s 22ms/step\n",
            "1/1 [==============================] - 0s 24ms/step\n",
            "1/1 [==============================] - 0s 23ms/step\n",
            "1/1 [==============================] - 0s 25ms/step\n",
            "1/1 [==============================] - 0s 24ms/step\n",
            "1/1 [==============================] - 0s 28ms/step\n",
            "1/1 [==============================] - 0s 25ms/step\n",
            "1/1 [==============================] - 0s 22ms/step\n",
            "1/1 [==============================] - 0s 24ms/step\n",
            "1/1 [==============================] - 0s 23ms/step\n",
            "1/1 [==============================] - 0s 22ms/step\n",
            "1/1 [==============================] - 0s 23ms/step\n",
            "1/1 [==============================] - 0s 23ms/step\n",
            "1/1 [==============================] - 0s 23ms/step\n",
            "1/1 [==============================] - 0s 22ms/step\n",
            "1/1 [==============================] - 0s 22ms/step\n",
            "1/1 [==============================] - 0s 24ms/step\n",
            "1/1 [==============================] - 1s 1s/step\n",
            "1/1 [==============================] - 0s 28ms/step\n",
            "1/1 [==============================] - 0s 23ms/step\n",
            "1/1 [==============================] - 0s 24ms/step\n",
            "1/1 [==============================] - 0s 27ms/step\n",
            "1/1 [==============================] - 0s 22ms/step\n",
            "1/1 [==============================] - 0s 24ms/step\n",
            "1/1 [==============================] - 0s 25ms/step\n",
            "1/1 [==============================] - 0s 26ms/step\n",
            "1/1 [==============================] - 0s 25ms/step\n",
            "1/1 [==============================] - 0s 22ms/step\n",
            "1/1 [==============================] - 0s 22ms/step\n",
            "1/1 [==============================] - 0s 22ms/step\n",
            "1/1 [==============================] - 0s 23ms/step\n",
            "1/1 [==============================] - 0s 23ms/step\n",
            "1/1 [==============================] - 0s 27ms/step\n",
            "1/1 [==============================] - 0s 23ms/step\n",
            "1/1 [==============================] - 0s 22ms/step\n",
            "1/1 [==============================] - 0s 32ms/step\n",
            "1/1 [==============================] - 0s 25ms/step\n",
            "1/1 [==============================] - 0s 28ms/step\n",
            "1/1 [==============================] - 0s 26ms/step\n",
            "1/1 [==============================] - 0s 27ms/step\n",
            "1/1 [==============================] - 0s 22ms/step\n",
            "1/1 [==============================] - 0s 23ms/step\n",
            "1/1 [==============================] - 0s 25ms/step\n",
            "1/1 [==============================] - 0s 22ms/step\n",
            "1/1 [==============================] - 0s 23ms/step\n",
            "1/1 [==============================] - 0s 25ms/step\n",
            "1/1 [==============================] - 0s 27ms/step\n",
            "1/1 [==============================] - 0s 27ms/step\n",
            "1/1 [==============================] - 0s 23ms/step\n",
            "1/1 [==============================] - 1s 846ms/step\n",
            "1/1 [==============================] - 0s 26ms/step\n",
            "1/1 [==============================] - 0s 27ms/step\n",
            "1/1 [==============================] - 0s 25ms/step\n",
            "1/1 [==============================] - 0s 26ms/step\n",
            "1/1 [==============================] - 0s 23ms/step\n",
            "1/1 [==============================] - 0s 22ms/step\n",
            "1/1 [==============================] - 0s 25ms/step\n",
            "1/1 [==============================] - 0s 24ms/step\n",
            "1/1 [==============================] - 0s 27ms/step\n",
            "1/1 [==============================] - 0s 29ms/step\n",
            "1/1 [==============================] - 0s 23ms/step\n",
            "1/1 [==============================] - 0s 26ms/step\n",
            "1/1 [==============================] - 0s 26ms/step\n",
            "1/1 [==============================] - 0s 24ms/step\n",
            "1/1 [==============================] - 0s 26ms/step\n",
            "1/1 [==============================] - 0s 23ms/step\n",
            "1/1 [==============================] - 0s 22ms/step\n",
            "1/1 [==============================] - 0s 26ms/step\n",
            "1/1 [==============================] - 0s 31ms/step\n",
            "1/1 [==============================] - 0s 26ms/step\n",
            "1/1 [==============================] - 0s 22ms/step\n",
            "1/1 [==============================] - 0s 28ms/step\n",
            "1/1 [==============================] - 0s 26ms/step\n",
            "1/1 [==============================] - 0s 24ms/step\n",
            "1/1 [==============================] - 0s 23ms/step\n",
            "1/1 [==============================] - 0s 22ms/step\n",
            "1/1 [==============================] - 0s 26ms/step\n",
            "1/1 [==============================] - 0s 24ms/step\n",
            "1/1 [==============================] - 0s 23ms/step\n",
            "1/1 [==============================] - 0s 26ms/step\n",
            "1/1 [==============================] - 0s 32ms/step\n",
            "1/1 [==============================] - 0s 17ms/step\n"
          ]
        }
      ]
    },
    {
      "cell_type": "code",
      "source": [
        "train_features.shape"
      ],
      "metadata": {
        "id": "HeXjkIoHp_H0",
        "outputId": "b837a8c9-242d-441d-ac36-53b3eab2358f",
        "colab": {
          "base_uri": "https://localhost:8080/"
        }
      },
      "execution_count": null,
      "outputs": [
        {
          "output_type": "execute_result",
          "data": {
            "text/plain": [
              "(2000, 5, 5, 512)"
            ]
          },
          "metadata": {},
          "execution_count": 29
        }
      ]
    },
    {
      "cell_type": "markdown",
      "source": [
        "the process of creating and training a densely connected classifier"
      ],
      "metadata": {
        "id": "a4FtaNxsBvVs"
      }
    },
    {
      "cell_type": "code",
      "source": [
        "inputs = keras.Input(shape=(5, 5, 512))\n",
        "x = layers.Flatten()(inputs)\n",
        "x = layers.Dense(256)(x)\n",
        "x = layers.Dropout(0.5)(x)\n",
        "outputs = layers.Dense(1, activation=\"sigmoid\")(x)\n",
        "model = keras.Model(inputs, outputs)\n",
        "model.compile(loss=\"binary_crossentropy\",\n",
        "              optimizer=\"rmsprop\",\n",
        "              metrics=[\"accuracy\"])\n",
        "\n",
        "callbacks = [\n",
        "    keras.callbacks.ModelCheckpoint(\n",
        "      filepath=\"feature_extraction.keras\",\n",
        "      save_best_only=True,\n",
        "      monitor=\"val_loss\")\n",
        "]\n",
        "history = model.fit(\n",
        "    train_features, train_labels,\n",
        "    epochs=20,\n",
        "    validation_data=(val_features, val_labels),\n",
        "    callbacks=callbacks)"
      ],
      "metadata": {
        "id": "Ju8TfDJMqDLH",
        "outputId": "29a2d6e0-1e6a-417a-9461-88bad1a32706",
        "colab": {
          "base_uri": "https://localhost:8080/"
        }
      },
      "execution_count": null,
      "outputs": [
        {
          "output_type": "stream",
          "name": "stdout",
          "text": [
            "Epoch 1/20\n",
            "63/63 [==============================] - 1s 11ms/step - loss: 19.7611 - accuracy: 0.9300 - val_loss: 4.1533 - val_accuracy: 0.9730\n",
            "Epoch 2/20\n",
            "63/63 [==============================] - 0s 7ms/step - loss: 5.5955 - accuracy: 0.9675 - val_loss: 5.2250 - val_accuracy: 0.9680\n",
            "Epoch 3/20\n",
            "63/63 [==============================] - 0s 6ms/step - loss: 2.8586 - accuracy: 0.9810 - val_loss: 5.9345 - val_accuracy: 0.9760\n",
            "Epoch 4/20\n",
            "63/63 [==============================] - 0s 6ms/step - loss: 0.5770 - accuracy: 0.9925 - val_loss: 8.0974 - val_accuracy: 0.9720\n",
            "Epoch 5/20\n",
            "63/63 [==============================] - 0s 6ms/step - loss: 1.1868 - accuracy: 0.9930 - val_loss: 6.1437 - val_accuracy: 0.9750\n",
            "Epoch 6/20\n",
            "63/63 [==============================] - 0s 6ms/step - loss: 0.7512 - accuracy: 0.9930 - val_loss: 5.9459 - val_accuracy: 0.9730\n",
            "Epoch 7/20\n",
            "63/63 [==============================] - 0s 6ms/step - loss: 0.4592 - accuracy: 0.9965 - val_loss: 6.4285 - val_accuracy: 0.9740\n",
            "Epoch 8/20\n",
            "63/63 [==============================] - 0s 6ms/step - loss: 0.6599 - accuracy: 0.9940 - val_loss: 7.3125 - val_accuracy: 0.9680\n",
            "Epoch 9/20\n",
            "63/63 [==============================] - 0s 6ms/step - loss: 0.3064 - accuracy: 0.9980 - val_loss: 5.9153 - val_accuracy: 0.9760\n",
            "Epoch 10/20\n",
            "63/63 [==============================] - 0s 7ms/step - loss: 0.3073 - accuracy: 0.9965 - val_loss: 8.1149 - val_accuracy: 0.9690\n",
            "Epoch 11/20\n",
            "63/63 [==============================] - 0s 7ms/step - loss: 0.4079 - accuracy: 0.9970 - val_loss: 6.3459 - val_accuracy: 0.9730\n",
            "Epoch 12/20\n",
            "63/63 [==============================] - 0s 7ms/step - loss: 0.3036 - accuracy: 0.9965 - val_loss: 6.3408 - val_accuracy: 0.9750\n",
            "Epoch 13/20\n",
            "63/63 [==============================] - 0s 7ms/step - loss: 0.2747 - accuracy: 0.9970 - val_loss: 5.8441 - val_accuracy: 0.9750\n",
            "Epoch 14/20\n",
            "63/63 [==============================] - 0s 7ms/step - loss: 0.0552 - accuracy: 0.9995 - val_loss: 5.0666 - val_accuracy: 0.9760\n",
            "Epoch 15/20\n",
            "63/63 [==============================] - 0s 6ms/step - loss: 0.0794 - accuracy: 0.9990 - val_loss: 5.5624 - val_accuracy: 0.9710\n",
            "Epoch 16/20\n",
            "63/63 [==============================] - 0s 7ms/step - loss: 0.1791 - accuracy: 0.9975 - val_loss: 5.3849 - val_accuracy: 0.9800\n",
            "Epoch 17/20\n",
            "63/63 [==============================] - 0s 7ms/step - loss: 0.2406 - accuracy: 0.9980 - val_loss: 5.2249 - val_accuracy: 0.9780\n",
            "Epoch 18/20\n",
            "63/63 [==============================] - 0s 6ms/step - loss: 0.1021 - accuracy: 0.9990 - val_loss: 6.3749 - val_accuracy: 0.9770\n",
            "Epoch 19/20\n",
            "63/63 [==============================] - 0s 6ms/step - loss: 0.0571 - accuracy: 0.9995 - val_loss: 6.1796 - val_accuracy: 0.9760\n",
            "Epoch 20/20\n",
            "63/63 [==============================] - 0s 6ms/step - loss: 3.6726e-32 - accuracy: 1.0000 - val_loss: 6.1796 - val_accuracy: 0.9760\n"
          ]
        }
      ]
    },
    {
      "cell_type": "markdown",
      "source": [
        "Plotting all the outcomes"
      ],
      "metadata": {
        "id": "Ole9RqpsDuoD"
      }
    },
    {
      "cell_type": "code",
      "source": [
        "import matplotlib.pyplot as plt\n",
        "acc = history.history[\"accuracy\"]\n",
        "val_acc = history.history[\"val_accuracy\"]\n",
        "loss = history.history[\"loss\"]\n",
        "val_loss = history.history[\"val_loss\"]\n",
        "epochs = range(1, len(acc) + 1)\n",
        "plt.plot(epochs, acc, \"bo\", label=\"Training accuracy\")\n",
        "plt.plot(epochs, val_acc, \"b\", label=\"Validation accuracy\")\n",
        "plt.title(\"Training and validation accuracy\")\n",
        "plt.legend()\n",
        "plt.figure()\n",
        "plt.plot(epochs, loss, \"bo\", label=\"Training loss\")\n",
        "plt.plot(epochs, val_loss, \"b\", label=\"Validation loss\")\n",
        "plt.title(\"Training and validation loss\")\n",
        "plt.legend()\n",
        "plt.show()"
      ],
      "metadata": {
        "id": "RYUV3EDBqLbG",
        "outputId": "38ae9a17-2579-4ba6-fc44-4389af1058df",
        "colab": {
          "base_uri": "https://localhost:8080/",
          "height": 545
        }
      },
      "execution_count": null,
      "outputs": [
        {
          "output_type": "display_data",
          "data": {
            "text/plain": [
              "<Figure size 432x288 with 1 Axes>"
            ],
            "image/png": "[encoded data removed]"
          },
          "metadata": {
            "needs_background": "light"
          }
        },
        {
          "output_type": "display_data",
          "data": {
            "text/plain": [
              "<Figure size 432x288 with 1 Axes>"
            ],
            "image/png": "[encoded data removed]"
          },
          "metadata": {
            "needs_background": "light"
          }
        }
      ]
    },
    {
      "cell_type": "markdown",
      "source": [
        "Feature extraction together with data augmentation and\n",
        "Instantiating and freezing the VGG16 convolutional base"
      ],
      "metadata": {
        "id": "j6vWV8MzD-za"
      }
    },
    {
      "cell_type": "code",
      "source": [
        "conv_base  = keras.applications.vgg16.VGG16(\n",
        "    weights=\"imagenet\",\n",
        "    include_top=False)\n",
        "conv_base.trainable = False"
      ],
      "metadata": {
        "id": "uKFilblyqOKy"
      },
      "execution_count": null,
      "outputs": []
    },
    {
      "cell_type": "markdown",
      "source": [
        "list of trainable weights to be printed before and after freezing"
      ],
      "metadata": {
        "id": "SDl4OBx0EQ8y"
      }
    },
    {
      "cell_type": "code",
      "source": [
        "conv_base.trainable = True\n",
        "print(\"This is the number of trainable weights \"\n",
        "      \"before freezing the conv base:\", len(conv_base.trainable_weights))"
      ],
      "metadata": {
        "id": "PMj89GcJqRVD",
        "outputId": "b0d52ad2-9f6b-4e63-c811-2adfbd777a24",
        "colab": {
          "base_uri": "https://localhost:8080/"
        }
      },
      "execution_count": null,
      "outputs": [
        {
          "output_type": "stream",
          "name": "stdout",
          "text": [
            "This is the number of trainable weights before freezing the conv base: 26\n"
          ]
        }
      ]
    },
    {
      "cell_type": "code",
      "source": [
        "conv_base.trainable = False\n",
        "print(\"This is the number of trainable weights \"\n",
        "      \"after freezing the conv base:\", len(conv_base.trainable_weights))"
      ],
      "metadata": {
        "id": "nv4AQ9-NqUWp",
        "outputId": "5024512a-3648-419d-dff9-bbe92a3e67d1",
        "colab": {
          "base_uri": "https://localhost:8080/"
        }
      },
      "execution_count": null,
      "outputs": [
        {
          "output_type": "stream",
          "name": "stdout",
          "text": [
            "This is the number of trainable weights after freezing the conv base: 0\n"
          ]
        }
      ]
    },
    {
      "cell_type": "markdown",
      "source": [
        "Here I am adding a classifier and a data augmentation stage to the convolutional base"
      ],
      "metadata": {
        "id": "3lyWs5FoE5qa"
      }
    },
    {
      "cell_type": "code",
      "source": [
        "data_augmentation = keras.Sequential(\n",
        "    [\n",
        "        layers.RandomFlip(\"horizontal\"),\n",
        "        layers.RandomRotation(0.1),\n",
        "        layers.RandomZoom(0.2),\n",
        "    ]\n",
        ")\n",
        "\n",
        "inputs = keras.Input(shape=(180, 180, 3))\n",
        "x = data_augmentation(inputs)\n",
        "x = keras.applications.vgg16.preprocess_input(x)\n",
        "x = conv_base(x)\n",
        "x = layers.Flatten()(x)\n",
        "x = layers.Dense(256)(x)\n",
        "x = layers.Dropout(0.5)(x)\n",
        "outputs = layers.Dense(1, activation=\"sigmoid\")(x)\n",
        "model = keras.Model(inputs, outputs)\n",
        "model.compile(loss=\"binary_crossentropy\",\n",
        "              optimizer=\"rmsprop\",\n",
        "              metrics=[\"accuracy\"])"
      ],
      "metadata": {
        "id": "OxStktgTqYv_"
      },
      "execution_count": null,
      "outputs": []
    },
    {
      "cell_type": "code",
      "source": [
        "callbacks = [\n",
        "    keras.callbacks.ModelCheckpoint(\n",
        "        filepath=\"feature_extraction_with_data_augmentation.keras\",\n",
        "        save_best_only=True,\n",
        "        monitor=\"val_loss\")\n",
        "]\n",
        "history = model.fit(\n",
        "    train_dataset,\n",
        "    epochs=50,\n",
        "    validation_data=validation_dataset,\n",
        "    callbacks=callbacks)\n"
      ],
      "metadata": {
        "id": "iNZBvA8Zqb-L",
        "outputId": "c9cf440c-3069-4520-d67a-5da60aabfe5b",
        "colab": {
          "base_uri": "https://localhost:8080/"
        }
      },
      "execution_count": null,
      "outputs": [
        {
          "output_type": "stream",
          "name": "stdout",
          "text": [
            "Epoch 1/50\n",
            "63/63 [==============================] - 15s 210ms/step - loss: 16.5421 - accuracy: 0.9005 - val_loss: 9.0125 - val_accuracy: 0.9410\n",
            "Epoch 2/50\n",
            "63/63 [==============================] - 13s 204ms/step - loss: 6.3933 - accuracy: 0.9460 - val_loss: 2.5995 - val_accuracy: 0.9790\n",
            "Epoch 3/50\n",
            "63/63 [==============================] - 13s 201ms/step - loss: 7.0722 - accuracy: 0.9530 - val_loss: 6.4658 - val_accuracy: 0.9650\n",
            "Epoch 4/50\n",
            "63/63 [==============================] - 13s 200ms/step - loss: 4.4020 - accuracy: 0.9605 - val_loss: 5.0639 - val_accuracy: 0.9760\n",
            "Epoch 5/50\n",
            "63/63 [==============================] - 13s 199ms/step - loss: 4.4706 - accuracy: 0.9645 - val_loss: 5.3346 - val_accuracy: 0.9680\n",
            "Epoch 6/50\n",
            "63/63 [==============================] - 13s 201ms/step - loss: 3.1875 - accuracy: 0.9700 - val_loss: 4.2024 - val_accuracy: 0.9740\n",
            "Epoch 7/50\n",
            "63/63 [==============================] - 13s 199ms/step - loss: 3.7643 - accuracy: 0.9685 - val_loss: 9.6577 - val_accuracy: 0.9510\n",
            "Epoch 8/50\n",
            "63/63 [==============================] - 13s 200ms/step - loss: 3.6301 - accuracy: 0.9755 - val_loss: 5.0777 - val_accuracy: 0.9710\n",
            "Epoch 9/50\n",
            "63/63 [==============================] - 13s 199ms/step - loss: 2.6268 - accuracy: 0.9725 - val_loss: 3.4390 - val_accuracy: 0.9780\n",
            "Epoch 10/50\n",
            "63/63 [==============================] - 13s 200ms/step - loss: 2.1306 - accuracy: 0.9780 - val_loss: 4.6355 - val_accuracy: 0.9790\n",
            "Epoch 11/50\n",
            "63/63 [==============================] - 13s 209ms/step - loss: 1.7615 - accuracy: 0.9800 - val_loss: 4.5516 - val_accuracy: 0.9760\n",
            "Epoch 12/50\n",
            "63/63 [==============================] - 13s 201ms/step - loss: 2.2747 - accuracy: 0.9750 - val_loss: 3.1630 - val_accuracy: 0.9820\n",
            "Epoch 13/50\n",
            "63/63 [==============================] - 13s 203ms/step - loss: 2.4031 - accuracy: 0.9790 - val_loss: 2.7376 - val_accuracy: 0.9800\n",
            "Epoch 14/50\n",
            "63/63 [==============================] - 13s 201ms/step - loss: 1.7561 - accuracy: 0.9815 - val_loss: 2.7670 - val_accuracy: 0.9850\n",
            "Epoch 15/50\n",
            "63/63 [==============================] - 13s 204ms/step - loss: 1.4913 - accuracy: 0.9790 - val_loss: 2.1084 - val_accuracy: 0.9860\n",
            "Epoch 16/50\n",
            "63/63 [==============================] - 13s 202ms/step - loss: 1.5007 - accuracy: 0.9835 - val_loss: 4.0919 - val_accuracy: 0.9740\n",
            "Epoch 17/50\n",
            "63/63 [==============================] - 13s 201ms/step - loss: 1.6350 - accuracy: 0.9820 - val_loss: 3.1521 - val_accuracy: 0.9810\n",
            "Epoch 18/50\n",
            "63/63 [==============================] - 13s 209ms/step - loss: 1.9256 - accuracy: 0.9800 - val_loss: 3.2392 - val_accuracy: 0.9730\n",
            "Epoch 19/50\n",
            "63/63 [==============================] - 13s 202ms/step - loss: 1.4105 - accuracy: 0.9815 - val_loss: 2.2756 - val_accuracy: 0.9800\n",
            "Epoch 20/50\n",
            "63/63 [==============================] - 13s 205ms/step - loss: 1.1234 - accuracy: 0.9840 - val_loss: 2.0941 - val_accuracy: 0.9830\n",
            "Epoch 21/50\n",
            "63/63 [==============================] - 13s 203ms/step - loss: 0.8340 - accuracy: 0.9835 - val_loss: 3.3175 - val_accuracy: 0.9780\n",
            "Epoch 22/50\n",
            "63/63 [==============================] - 13s 201ms/step - loss: 2.0595 - accuracy: 0.9815 - val_loss: 4.7532 - val_accuracy: 0.9660\n",
            "Epoch 23/50\n",
            "63/63 [==============================] - 13s 200ms/step - loss: 0.9963 - accuracy: 0.9860 - val_loss: 2.6877 - val_accuracy: 0.9810\n",
            "Epoch 24/50\n",
            "63/63 [==============================] - 13s 201ms/step - loss: 1.4062 - accuracy: 0.9800 - val_loss: 2.5902 - val_accuracy: 0.9820\n",
            "Epoch 25/50\n",
            "63/63 [==============================] - 13s 203ms/step - loss: 1.1576 - accuracy: 0.9845 - val_loss: 2.8954 - val_accuracy: 0.9780\n",
            "Epoch 26/50\n",
            "63/63 [==============================] - 13s 209ms/step - loss: 1.0575 - accuracy: 0.9855 - val_loss: 2.4936 - val_accuracy: 0.9840\n",
            "Epoch 27/50\n",
            "63/63 [==============================] - 13s 199ms/step - loss: 1.0069 - accuracy: 0.9840 - val_loss: 2.1126 - val_accuracy: 0.9840\n",
            "Epoch 28/50\n",
            "63/63 [==============================] - 13s 202ms/step - loss: 1.1868 - accuracy: 0.9810 - val_loss: 2.1651 - val_accuracy: 0.9840\n",
            "Epoch 29/50\n",
            "63/63 [==============================] - 13s 205ms/step - loss: 0.3919 - accuracy: 0.9920 - val_loss: 2.3801 - val_accuracy: 0.9820\n",
            "Epoch 30/50\n",
            "63/63 [==============================] - 13s 200ms/step - loss: 1.0571 - accuracy: 0.9825 - val_loss: 2.1761 - val_accuracy: 0.9770\n",
            "Epoch 31/50\n",
            "63/63 [==============================] - 13s 201ms/step - loss: 0.8671 - accuracy: 0.9860 - val_loss: 2.1037 - val_accuracy: 0.9820\n",
            "Epoch 32/50\n",
            "63/63 [==============================] - 14s 225ms/step - loss: 0.4186 - accuracy: 0.9900 - val_loss: 1.9071 - val_accuracy: 0.9810\n",
            "Epoch 33/50\n",
            "63/63 [==============================] - 13s 202ms/step - loss: 0.7106 - accuracy: 0.9865 - val_loss: 2.3542 - val_accuracy: 0.9780\n",
            "Epoch 34/50\n",
            "63/63 [==============================] - 14s 209ms/step - loss: 0.7860 - accuracy: 0.9850 - val_loss: 1.8145 - val_accuracy: 0.9800\n",
            "Epoch 35/50\n",
            "63/63 [==============================] - 13s 202ms/step - loss: 0.5085 - accuracy: 0.9885 - val_loss: 2.4455 - val_accuracy: 0.9750\n",
            "Epoch 36/50\n",
            "63/63 [==============================] - 13s 204ms/step - loss: 0.8427 - accuracy: 0.9820 - val_loss: 2.3698 - val_accuracy: 0.9770\n",
            "Epoch 37/50\n",
            "63/63 [==============================] - 13s 200ms/step - loss: 0.8217 - accuracy: 0.9870 - val_loss: 1.9476 - val_accuracy: 0.9800\n",
            "Epoch 38/50\n",
            "63/63 [==============================] - 13s 202ms/step - loss: 0.5982 - accuracy: 0.9840 - val_loss: 2.1049 - val_accuracy: 0.9780\n",
            "Epoch 39/50\n",
            "63/63 [==============================] - 13s 201ms/step - loss: 0.6043 - accuracy: 0.9895 - val_loss: 2.4868 - val_accuracy: 0.9780\n",
            "Epoch 40/50\n",
            "63/63 [==============================] - 13s 198ms/step - loss: 0.9201 - accuracy: 0.9865 - val_loss: 1.9097 - val_accuracy: 0.9810\n",
            "Epoch 41/50\n",
            "63/63 [==============================] - 13s 200ms/step - loss: 0.4764 - accuracy: 0.9900 - val_loss: 2.2156 - val_accuracy: 0.9770\n",
            "Epoch 42/50\n",
            "63/63 [==============================] - 13s 208ms/step - loss: 0.5062 - accuracy: 0.9880 - val_loss: 2.0071 - val_accuracy: 0.9790\n",
            "Epoch 43/50\n",
            "63/63 [==============================] - 13s 202ms/step - loss: 0.3751 - accuracy: 0.9895 - val_loss: 2.2899 - val_accuracy: 0.9780\n",
            "Epoch 44/50\n",
            "63/63 [==============================] - 13s 203ms/step - loss: 0.4444 - accuracy: 0.9905 - val_loss: 1.9302 - val_accuracy: 0.9810\n",
            "Epoch 45/50\n",
            "63/63 [==============================] - 13s 201ms/step - loss: 0.4154 - accuracy: 0.9895 - val_loss: 1.8768 - val_accuracy: 0.9840\n",
            "Epoch 46/50\n",
            "63/63 [==============================] - 13s 205ms/step - loss: 0.3929 - accuracy: 0.9910 - val_loss: 1.6332 - val_accuracy: 0.9800\n",
            "Epoch 47/50\n",
            "63/63 [==============================] - 13s 200ms/step - loss: 0.6467 - accuracy: 0.9845 - val_loss: 2.4845 - val_accuracy: 0.9750\n",
            "Epoch 48/50\n",
            "63/63 [==============================] - 13s 204ms/step - loss: 0.4331 - accuracy: 0.9885 - val_loss: 1.5888 - val_accuracy: 0.9820\n",
            "Epoch 49/50\n",
            "63/63 [==============================] - 13s 201ms/step - loss: 0.3767 - accuracy: 0.9915 - val_loss: 1.7103 - val_accuracy: 0.9790\n",
            "Epoch 50/50\n",
            "63/63 [==============================] - 13s 211ms/step - loss: 0.3398 - accuracy: 0.9880 - val_loss: 2.0723 - val_accuracy: 0.9770\n"
          ]
        }
      ]
    },
    {
      "cell_type": "markdown",
      "source": [
        "Model evaluation using the test set"
      ],
      "metadata": {
        "id": "zTWvs4peFP_C"
      }
    },
    {
      "cell_type": "code",
      "source": [
        " test_model = keras.models.load_model(\n",
        "    \"feature_extraction_with_data_augmentation.keras\")\n",
        "test_loss, test_acc = test_model.evaluate(test_dataset)\n",
        "print(f\"Test accuracy: {test_acc:.3f}\")"
      ],
      "metadata": {
        "id": "XOv26uSCuLai",
        "outputId": "7e73a71d-8688-41e6-f0a4-0bee9f22f26f",
        "colab": {
          "base_uri": "https://localhost:8080/"
        }
      },
      "execution_count": null,
      "outputs": [
        {
          "output_type": "stream",
          "name": "stdout",
          "text": [
            "32/32 [==============================] - 4s 109ms/step - loss: 1.7351 - accuracy: 0.9770\n",
            "Test accuracy: 0.977\n"
          ]
        }
      ]
    },
    {
      "cell_type": "markdown",
      "source": [
        "Here I got the\n",
        "Training accuracy:98.80%\n",
        "Validation accuracy:97.90%\n",
        "Test accuracy:97.7%"
      ],
      "metadata": {
        "id": "NS1zqRgIFUGa"
      }
    },
    {
      "cell_type": "markdown",
      "source": [
        "Modifying the trained model"
      ],
      "metadata": {
        "id": "g8QJ7hT2Hi1f"
      }
    },
    {
      "cell_type": "code",
      "source": [
        "conv_base.summary()"
      ],
      "metadata": {
        "id": "siWmKf3Jum1d",
        "outputId": "6ff6a533-3765-4a15-fcfe-5a6a552fc0c8",
        "colab": {
          "base_uri": "https://localhost:8080/"
        }
      },
      "execution_count": null,
      "outputs": [
        {
          "output_type": "stream",
          "name": "stdout",
          "text": [
            "Model: \"vgg16\"\n",
            "_________________________________________________________________\n",
            " Layer (type)                Output Shape              Param #   \n",
            "=================================================================\n",
            " input_6 (InputLayer)        [(None, None, None, 3)]   0         \n",
            "                                                                 \n",
            " block1_conv1 (Conv2D)       (None, None, None, 64)    1792      \n",
            "                                                                 \n",
            " block1_conv2 (Conv2D)       (None, None, None, 64)    36928     \n",
            "                                                                 \n",
            " block1_pool (MaxPooling2D)  (None, None, None, 64)    0         \n",
            "                                                                 \n",
            " block2_conv1 (Conv2D)       (None, None, None, 128)   73856     \n",
            "                                                                 \n",
            " block2_conv2 (Conv2D)       (None, None, None, 128)   147584    \n",
            "                                                                 \n",
            " block2_pool (MaxPooling2D)  (None, None, None, 128)   0         \n",
            "                                                                 \n",
            " block3_conv1 (Conv2D)       (None, None, None, 256)   295168    \n",
            "                                                                 \n",
            " block3_conv2 (Conv2D)       (None, None, None, 256)   590080    \n",
            "                                                                 \n",
            " block3_conv3 (Conv2D)       (None, None, None, 256)   590080    \n",
            "                                                                 \n",
            " block3_pool (MaxPooling2D)  (None, None, None, 256)   0         \n",
            "                                                                 \n",
            " block4_conv1 (Conv2D)       (None, None, None, 512)   1180160   \n",
            "                                                                 \n",
            " block4_conv2 (Conv2D)       (None, None, None, 512)   2359808   \n",
            "                                                                 \n",
            " block4_conv3 (Conv2D)       (None, None, None, 512)   2359808   \n",
            "                                                                 \n",
            " block4_pool (MaxPooling2D)  (None, None, None, 512)   0         \n",
            "                                                                 \n",
            " block5_conv1 (Conv2D)       (None, None, None, 512)   2359808   \n",
            "                                                                 \n",
            " block5_conv2 (Conv2D)       (None, None, None, 512)   2359808   \n",
            "                                                                 \n",
            " block5_conv3 (Conv2D)       (None, None, None, 512)   2359808   \n",
            "                                                                 \n",
            " block5_pool (MaxPooling2D)  (None, None, None, 512)   0         \n",
            "                                                                 \n",
            "=================================================================\n",
            "Total params: 14,714,688\n",
            "Trainable params: 0\n",
            "Non-trainable params: 14,714,688\n",
            "_________________________________________________________________\n"
          ]
        }
      ]
    },
    {
      "cell_type": "markdown",
      "source": [
        "Here I am freezing all the layers from the last till fourth"
      ],
      "metadata": {
        "id": "yR3SsOeIHpnO"
      }
    },
    {
      "cell_type": "code",
      "source": [
        "conv_base.trainable = True\n",
        "for layer in conv_base.layers[:-4]:\n",
        "    layer.trainable = False"
      ],
      "metadata": {
        "id": "M9YqV-4KupzK"
      },
      "execution_count": null,
      "outputs": []
    },
    {
      "cell_type": "markdown",
      "source": [
        "Fine-tuning the model"
      ],
      "metadata": {
        "id": "h4EIp9wiH9E_"
      }
    },
    {
      "cell_type": "code",
      "source": [
        "model.compile(loss=\"binary_crossentropy\",\n",
        "              optimizer=keras.optimizers.RMSprop(learning_rate=1e-5),\n",
        "              metrics=[\"accuracy\"])\n",
        "\n",
        "callbacks = [\n",
        "    keras.callbacks.ModelCheckpoint(\n",
        "        filepath=\"fine_tuning.keras\",\n",
        "        save_best_only=True,\n",
        "        monitor=\"val_loss\")\n",
        "]\n",
        "history = model.fit(\n",
        "    train_dataset,\n",
        "    epochs=30,\n",
        "    validation_data=validation_dataset,\n",
        "    callbacks=callbacks)"
      ],
      "metadata": {
        "id": "dw1H-Jz_utq3",
        "outputId": "a2e20a49-22ec-49c2-8d71-18da3f8df3b4",
        "colab": {
          "base_uri": "https://localhost:8080/"
        }
      },
      "execution_count": null,
      "outputs": [
        {
          "output_type": "stream",
          "name": "stdout",
          "text": [
            "Epoch 1/30\n",
            "63/63 [==============================] - 16s 224ms/step - loss: 0.7573 - accuracy: 0.9855 - val_loss: 1.3324 - val_accuracy: 0.9850\n",
            "Epoch 2/30\n",
            "63/63 [==============================] - 14s 215ms/step - loss: 0.3400 - accuracy: 0.9925 - val_loss: 2.6992 - val_accuracy: 0.9760\n",
            "Epoch 3/30\n",
            "63/63 [==============================] - 14s 219ms/step - loss: 0.4483 - accuracy: 0.9895 - val_loss: 1.5284 - val_accuracy: 0.9800\n",
            "Epoch 4/30\n",
            "63/63 [==============================] - 14s 217ms/step - loss: 0.2056 - accuracy: 0.9965 - val_loss: 1.9889 - val_accuracy: 0.9810\n",
            "Epoch 5/30\n",
            "63/63 [==============================] - 14s 222ms/step - loss: 0.2506 - accuracy: 0.9925 - val_loss: 1.2824 - val_accuracy: 0.9830\n",
            "Epoch 6/30\n",
            "63/63 [==============================] - 14s 224ms/step - loss: 0.4363 - accuracy: 0.9895 - val_loss: 1.7994 - val_accuracy: 0.9770\n",
            "Epoch 7/30\n",
            "63/63 [==============================] - 14s 217ms/step - loss: 0.3629 - accuracy: 0.9935 - val_loss: 1.4594 - val_accuracy: 0.9790\n",
            "Epoch 8/30\n",
            "63/63 [==============================] - 14s 218ms/step - loss: 0.1326 - accuracy: 0.9945 - val_loss: 1.6802 - val_accuracy: 0.9780\n",
            "Epoch 9/30\n",
            "63/63 [==============================] - 14s 220ms/step - loss: 0.3034 - accuracy: 0.9910 - val_loss: 1.7230 - val_accuracy: 0.9770\n",
            "Epoch 10/30\n",
            "63/63 [==============================] - 14s 219ms/step - loss: 0.4165 - accuracy: 0.9905 - val_loss: 1.4692 - val_accuracy: 0.9830\n",
            "Epoch 11/30\n",
            "63/63 [==============================] - 14s 219ms/step - loss: 0.1592 - accuracy: 0.9950 - val_loss: 1.5181 - val_accuracy: 0.9800\n",
            "Epoch 12/30\n",
            "63/63 [==============================] - 14s 219ms/step - loss: 0.2456 - accuracy: 0.9935 - val_loss: 1.4170 - val_accuracy: 0.9820\n",
            "Epoch 13/30\n",
            "63/63 [==============================] - 14s 226ms/step - loss: 0.2985 - accuracy: 0.9905 - val_loss: 1.8758 - val_accuracy: 0.9770\n",
            "Epoch 14/30\n",
            "63/63 [==============================] - 14s 218ms/step - loss: 0.0768 - accuracy: 0.9955 - val_loss: 1.6215 - val_accuracy: 0.9830\n",
            "Epoch 15/30\n",
            "63/63 [==============================] - 14s 219ms/step - loss: 0.2090 - accuracy: 0.9950 - val_loss: 1.6512 - val_accuracy: 0.9800\n",
            "Epoch 16/30\n",
            "63/63 [==============================] - 14s 217ms/step - loss: 0.2310 - accuracy: 0.9940 - val_loss: 1.6056 - val_accuracy: 0.9830\n",
            "Epoch 17/30\n",
            "63/63 [==============================] - 14s 218ms/step - loss: 0.0267 - accuracy: 0.9965 - val_loss: 1.4227 - val_accuracy: 0.9780\n",
            "Epoch 18/30\n",
            "63/63 [==============================] - 14s 217ms/step - loss: 0.1908 - accuracy: 0.9965 - val_loss: 1.6426 - val_accuracy: 0.9780\n",
            "Epoch 19/30\n",
            "63/63 [==============================] - 14s 218ms/step - loss: 0.1236 - accuracy: 0.9935 - val_loss: 1.3581 - val_accuracy: 0.9800\n",
            "Epoch 20/30\n",
            "63/63 [==============================] - 14s 218ms/step - loss: 0.2569 - accuracy: 0.9925 - val_loss: 1.3706 - val_accuracy: 0.9830\n",
            "Epoch 21/30\n",
            "63/63 [==============================] - 14s 224ms/step - loss: 0.2128 - accuracy: 0.9920 - val_loss: 1.4808 - val_accuracy: 0.9800\n",
            "Epoch 22/30\n",
            "63/63 [==============================] - 14s 218ms/step - loss: 0.1883 - accuracy: 0.9935 - val_loss: 1.2889 - val_accuracy: 0.9840\n",
            "Epoch 23/30\n",
            "63/63 [==============================] - 14s 218ms/step - loss: 0.0832 - accuracy: 0.9960 - val_loss: 1.3944 - val_accuracy: 0.9860\n",
            "Epoch 24/30\n",
            "63/63 [==============================] - 14s 226ms/step - loss: 0.0175 - accuracy: 0.9980 - val_loss: 1.2784 - val_accuracy: 0.9830\n",
            "Epoch 25/30\n",
            "63/63 [==============================] - 14s 217ms/step - loss: 0.1489 - accuracy: 0.9945 - val_loss: 1.6963 - val_accuracy: 0.9830\n",
            "Epoch 26/30\n",
            "63/63 [==============================] - 14s 218ms/step - loss: 0.1658 - accuracy: 0.9960 - val_loss: 1.3949 - val_accuracy: 0.9840\n",
            "Epoch 27/30\n",
            "63/63 [==============================] - 14s 219ms/step - loss: 0.2758 - accuracy: 0.9940 - val_loss: 1.3608 - val_accuracy: 0.9830\n",
            "Epoch 28/30\n",
            "63/63 [==============================] - 14s 224ms/step - loss: 0.2185 - accuracy: 0.9915 - val_loss: 1.3536 - val_accuracy: 0.9830\n",
            "Epoch 29/30\n",
            "63/63 [==============================] - 14s 219ms/step - loss: 0.0861 - accuracy: 0.9965 - val_loss: 1.3425 - val_accuracy: 0.9860\n",
            "Epoch 30/30\n",
            "63/63 [==============================] - 14s 220ms/step - loss: 0.0944 - accuracy: 0.9965 - val_loss: 1.4186 - val_accuracy: 0.9840\n"
          ]
        }
      ]
    },
    {
      "cell_type": "markdown",
      "source": [
        "Model evaluation on the test set"
      ],
      "metadata": {
        "id": "KLTEmM-VIMk4"
      }
    },
    {
      "cell_type": "code",
      "source": [
        "model = keras.models.load_model(\"fine_tuning.keras\")\n",
        "test_loss, test_acc = model.evaluate(test_dataset)\n",
        "print(f\"Test accuracy: {test_acc:.3f}\")"
      ],
      "metadata": {
        "id": "O4KF4ewJu7Gx",
        "outputId": "33c05bb9-be31-4260-aa81-8d055aecf03d",
        "colab": {
          "base_uri": "https://localhost:8080/"
        }
      },
      "execution_count": null,
      "outputs": [
        {
          "output_type": "stream",
          "name": "stdout",
          "text": [
            "32/32 [==============================] - 4s 112ms/step - loss: 1.5624 - accuracy: 0.9780\n",
            "Test accuracy: 0.978\n"
          ]
        }
      ]
    },
    {
      "cell_type": "markdown",
      "source": [
        "Here I got the\n",
        "Training accuracy :99.65%\n",
        "Validation accuracy :  98.60%\n",
        "Test accuracy : 97.8%"
      ],
      "metadata": {
        "id": "yhXEkkUtIuEL"
      }
    },
    {
      "cell_type": "markdown",
      "source": [
        "Summary:\n",
        "\n",
        "Firstly i took a small convolutional network of 1000 training samples and validation and test samples of 500 each with no optimization.But here i got the accuracy of 83.5% due to overfitting.\n",
        "\n",
        "But after that I have added data augmentation , early stopping , dropout  then the accuracy is raised to deacreased to 80.6%. Even with the increase of the training sample size  with the augmentation , the accuracy didnot get better.\n",
        "\n",
        "model preparation without augmentation Compared to a model created from new model, a pretrained model is more accurate. This validation accuracy was 97.7%, which is significantly higher than the accuracy we would have obtained by starting from new model.\n",
        "\n",
        "Pretrained model with augmentation Here the validation accuracy slightly increased from 97.7% to 97.8%. With the fine tuning using predefined model I got the test accuracy of 97.8% \n",
        "\n"
      ],
      "metadata": {
        "id": "kNuo-T67JL6-"
      }
    }
  ],
  "metadata": {
    "colab": {
      "collapsed_sections": [],
      "provenance": []
    },
    "kernelspec": {
      "display_name": "Python 3",
      "language": "python",
      "name": "python3"
    },
    "language_info": {
      "codemirror_mode": {
        "name": "ipython",
        "version": 3
      },
      "file_extension": ".py",
      "mimetype": "text/x-python",
      "name": "python",
      "nbconvert_exporter": "python",
      "pygments_lexer": "ipython3",
      "version": "3.7.0"
    },
    "accelerator": "GPU",
    "gpuClass": "standard"
  },
  "nbformat": 4,
  "nbformat_minor": 0
}
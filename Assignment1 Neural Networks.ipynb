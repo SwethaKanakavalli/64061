{
  "cells": [
    {
      "cell_type": "markdown",
      "metadata": {
        "id": "58dlIdXb4gdy"
      },
      "source": [
        "This is a companion notebook for the book [Deep Learning with Python, Second Edition](https://www.manning.com/books/deep-learning-with-python-second-edition?a_aid=keras&a_bid=76564dff). For readability, it only contains runnable code blocks and section titles, and omits everything else in the book: text paragraphs, figures, and pseudocode.\n",
        "\n",
        "**If you want to be able to follow what's going on, I recommend reading the notebook side by side with your copy of the book.**\n",
        "\n",
        "This notebook was generated for TensorFlow 2.6."
      ]
    },
    {
      "cell_type": "markdown",
      "metadata": {
        "id": "rB7krTFS4gd1"
      },
      "source": [
        "# Getting started with neural networks: Classification and regression"
      ]
    },
    {
      "cell_type": "markdown",
      "metadata": {
        "id": "qM532N0s4gd2"
      },
      "source": [
        "## Classifying movie reviews: A binary classification example"
      ]
    },
    {
      "cell_type": "markdown",
      "metadata": {
        "id": "Kq5ZSDT44gd2"
      },
      "source": [
        "### The IMDB dataset"
      ]
    },
    {
      "cell_type": "markdown",
      "metadata": {
        "id": "8-FBCBVi4gd3"
      },
      "source": [
        "**Loading the IMDB dataset**"
      ]
    },
    {
      "cell_type": "markdown",
      "source": [
        "#Importing an IMDB dataset from Keras. Here, we'll look at the 10000 words."
      ],
      "metadata": {
        "id": "qwExBac78mwu"
      }
    },
    {
      "cell_type": "markdown",
      "source": [
        "##Dividing the dataset into training and test sets."
      ],
      "metadata": {
        "id": "7dT7KJHw8-Rq"
      }
    },
    {
      "cell_type": "code",
      "execution_count": 2,
      "metadata": {
        "id": "l8rge7_W4gd3"
      },
      "outputs": [],
      "source": [
        "from tensorflow.keras.datasets import imdb\n",
        "(train_data, train_labels), (test_data, test_labels) = imdb.load_data(\n",
        "    num_words=10000)"
      ]
    },
    {
      "cell_type": "code",
      "source": [],
      "metadata": {
        "id": "TVKoqbfVk7lT"
      },
      "execution_count": 2,
      "outputs": []
    },
    {
      "cell_type": "markdown",
      "source": [
        "#Simply printing the first review from the training dataset."
      ],
      "metadata": {
        "id": "-1bHu1M59Toi"
      }
    },
    {
      "cell_type": "code",
      "execution_count": 3,
      "metadata": {
        "colab": {
          "base_uri": "https://localhost:8080/"
        },
        "id": "4tvZqVjj4gd4",
        "outputId": "17924e7c-5cd2-4fa5-bd5e-57b6ae6f2133"
      },
      "outputs": [
        {
          "output_type": "execute_result",
          "data": {
            "text/plain": [
              "[1,\n",
              " 14,\n",
              " 22,\n",
              " 16,\n",
              " 43,\n",
              " 530,\n",
              " 973,\n",
              " 1622,\n",
              " 1385,\n",
              " 65,\n",
              " 458,\n",
              " 4468,\n",
              " 66,\n",
              " 3941,\n",
              " 4,\n",
              " 173,\n",
              " 36,\n",
              " 256,\n",
              " 5,\n",
              " 25,\n",
              " 100,\n",
              " 43,\n",
              " 838,\n",
              " 112,\n",
              " 50,\n",
              " 670,\n",
              " 2,\n",
              " 9,\n",
              " 35,\n",
              " 480,\n",
              " 284,\n",
              " 5,\n",
              " 150,\n",
              " 4,\n",
              " 172,\n",
              " 112,\n",
              " 167,\n",
              " 2,\n",
              " 336,\n",
              " 385,\n",
              " 39,\n",
              " 4,\n",
              " 172,\n",
              " 4536,\n",
              " 1111,\n",
              " 17,\n",
              " 546,\n",
              " 38,\n",
              " 13,\n",
              " 447,\n",
              " 4,\n",
              " 192,\n",
              " 50,\n",
              " 16,\n",
              " 6,\n",
              " 147,\n",
              " 2025,\n",
              " 19,\n",
              " 14,\n",
              " 22,\n",
              " 4,\n",
              " 1920,\n",
              " 4613,\n",
              " 469,\n",
              " 4,\n",
              " 22,\n",
              " 71,\n",
              " 87,\n",
              " 12,\n",
              " 16,\n",
              " 43,\n",
              " 530,\n",
              " 38,\n",
              " 76,\n",
              " 15,\n",
              " 13,\n",
              " 1247,\n",
              " 4,\n",
              " 22,\n",
              " 17,\n",
              " 515,\n",
              " 17,\n",
              " 12,\n",
              " 16,\n",
              " 626,\n",
              " 18,\n",
              " 2,\n",
              " 5,\n",
              " 62,\n",
              " 386,\n",
              " 12,\n",
              " 8,\n",
              " 316,\n",
              " 8,\n",
              " 106,\n",
              " 5,\n",
              " 4,\n",
              " 2223,\n",
              " 5244,\n",
              " 16,\n",
              " 480,\n",
              " 66,\n",
              " 3785,\n",
              " 33,\n",
              " 4,\n",
              " 130,\n",
              " 12,\n",
              " 16,\n",
              " 38,\n",
              " 619,\n",
              " 5,\n",
              " 25,\n",
              " 124,\n",
              " 51,\n",
              " 36,\n",
              " 135,\n",
              " 48,\n",
              " 25,\n",
              " 1415,\n",
              " 33,\n",
              " 6,\n",
              " 22,\n",
              " 12,\n",
              " 215,\n",
              " 28,\n",
              " 77,\n",
              " 52,\n",
              " 5,\n",
              " 14,\n",
              " 407,\n",
              " 16,\n",
              " 82,\n",
              " 2,\n",
              " 8,\n",
              " 4,\n",
              " 107,\n",
              " 117,\n",
              " 5952,\n",
              " 15,\n",
              " 256,\n",
              " 4,\n",
              " 2,\n",
              " 7,\n",
              " 3766,\n",
              " 5,\n",
              " 723,\n",
              " 36,\n",
              " 71,\n",
              " 43,\n",
              " 530,\n",
              " 476,\n",
              " 26,\n",
              " 400,\n",
              " 317,\n",
              " 46,\n",
              " 7,\n",
              " 4,\n",
              " 2,\n",
              " 1029,\n",
              " 13,\n",
              " 104,\n",
              " 88,\n",
              " 4,\n",
              " 381,\n",
              " 15,\n",
              " 297,\n",
              " 98,\n",
              " 32,\n",
              " 2071,\n",
              " 56,\n",
              " 26,\n",
              " 141,\n",
              " 6,\n",
              " 194,\n",
              " 7486,\n",
              " 18,\n",
              " 4,\n",
              " 226,\n",
              " 22,\n",
              " 21,\n",
              " 134,\n",
              " 476,\n",
              " 26,\n",
              " 480,\n",
              " 5,\n",
              " 144,\n",
              " 30,\n",
              " 5535,\n",
              " 18,\n",
              " 51,\n",
              " 36,\n",
              " 28,\n",
              " 224,\n",
              " 92,\n",
              " 25,\n",
              " 104,\n",
              " 4,\n",
              " 226,\n",
              " 65,\n",
              " 16,\n",
              " 38,\n",
              " 1334,\n",
              " 88,\n",
              " 12,\n",
              " 16,\n",
              " 283,\n",
              " 5,\n",
              " 16,\n",
              " 4472,\n",
              " 113,\n",
              " 103,\n",
              " 32,\n",
              " 15,\n",
              " 16,\n",
              " 5345,\n",
              " 19,\n",
              " 178,\n",
              " 32]"
            ]
          },
          "metadata": {},
          "execution_count": 3
        }
      ],
      "source": [
        "train_data[0]"
      ]
    },
    {
      "cell_type": "markdown",
      "source": [
        "##checking the first review's label"
      ],
      "metadata": {
        "id": "dpHCnPCg9vtG"
      }
    },
    {
      "cell_type": "code",
      "execution_count": 4,
      "metadata": {
        "colab": {
          "base_uri": "https://localhost:8080/"
        },
        "id": "eRLvJeip4gd5",
        "outputId": "d435ba23-10f9-4e1d-e278-60e4cf5bdccf"
      },
      "outputs": [
        {
          "output_type": "execute_result",
          "data": {
            "text/plain": [
              "1"
            ]
          },
          "metadata": {},
          "execution_count": 4
        }
      ],
      "source": [
        "train_labels[0]"
      ]
    },
    {
      "cell_type": "code",
      "execution_count": 5,
      "metadata": {
        "colab": {
          "base_uri": "https://localhost:8080/"
        },
        "id": "sVtkuIDT4gd5",
        "outputId": "08482e7f-07f2-476d-99b0-14e99faa3c9b"
      },
      "outputs": [
        {
          "output_type": "execute_result",
          "data": {
            "text/plain": [
              "9999"
            ]
          },
          "metadata": {},
          "execution_count": 5
        }
      ],
      "source": [
        "max([max(sequence) for sequence in train_data])"
      ]
    },
    {
      "cell_type": "markdown",
      "metadata": {
        "id": "ZybWc2VJ4gd6"
      },
      "source": [
        "Decoding and displaying movie reviews in text"
      ]
    },
    {
      "cell_type": "code",
      "execution_count": 6,
      "metadata": {
        "colab": {
          "base_uri": "https://localhost:8080/"
        },
        "id": "zSGebD8h4gd6",
        "outputId": "9c01925f-7534-4859-d19b-25515a80d8c1"
      },
      "outputs": [
        {
          "output_type": "stream",
          "name": "stdout",
          "text": [
            "Downloading data from https://storage.googleapis.com/tensorflow/tf-keras-datasets/imdb_word_index.json\n",
            "1646592/1641221 [==============================] - 0s 0us/step\n",
            "1654784/1641221 [==============================] - 0s 0us/step\n"
          ]
        }
      ],
      "source": [
        "word_index = imdb.get_word_index()\n",
        "reverse_word_index = dict(\n",
        "    [(value, key) for (key, value) in word_index.items()])\n",
        "decoded_review = \" \".join(\n",
        "    [reverse_word_index.get(i - 3, \"?\") for i in train_data[0]])\n",
        "#As can be seen, the first review is positive, and the label is 1."
      ]
    },
    {
      "cell_type": "markdown",
      "metadata": {
        "id": "mTk7xUIP4gd6"
      },
      "source": [
        "### Preparing the data"
      ]
    },
    {
      "cell_type": "markdown",
      "metadata": {
        "id": "wcF3A3H24gd6"
      },
      "source": [
        "**Encoding the integer sequences via multi-hot encoding**"
      ]
    },
    {
      "cell_type": "code",
      "execution_count": 7,
      "metadata": {
        "id": "XuBgmMPK4gd7"
      },
      "outputs": [],
      "source": [
        "import numpy as np\n",
        "def vectorize_sequences(sequences, dimension=10000):\n",
        "    results = np.zeros((len(sequences), dimension))\n",
        "    for i, sequence in enumerate(sequences):\n",
        "        for j in sequence:\n",
        "            results[i, j] = 1.\n",
        "    return results\n",
        "x_train = vectorize_sequences(train_data)\n",
        "x_test = vectorize_sequences(test_data)"
      ]
    },
    {
      "cell_type": "markdown",
      "source": [
        "#"
      ],
      "metadata": {
        "id": "bgATZ3kR6u6Q"
      }
    },
    {
      "cell_type": "code",
      "execution_count": 8,
      "metadata": {
        "colab": {
          "base_uri": "https://localhost:8080/"
        },
        "id": "fNLb-jck4gd7",
        "outputId": "76896a27-5480-4cf5-d5e4-634e841b2d4b"
      },
      "outputs": [
        {
          "output_type": "execute_result",
          "data": {
            "text/plain": [
              "array([0., 1., 1., ..., 0., 0., 0.])"
            ]
          },
          "metadata": {},
          "execution_count": 8
        }
      ],
      "source": [
        "x_train[0]"
      ]
    },
    {
      "cell_type": "code",
      "execution_count": 9,
      "metadata": {
        "id": "dFqVd59a4gd7"
      },
      "outputs": [],
      "source": [
        "y_train = np.asarray(train_labels).astype(\"float32\")\n",
        "y_test = np.asarray(test_labels).astype(\"float32\")"
      ]
    },
    {
      "cell_type": "markdown",
      "metadata": {
        "id": "uHOgZ1yW4gd8"
      },
      "source": [
        "### Building your model"
      ]
    },
    {
      "cell_type": "markdown",
      "metadata": {
        "id": "GtVJDMmJ4gd8"
      },
      "source": [
        "**Model definition**"
      ]
    },
    {
      "cell_type": "code",
      "execution_count": 10,
      "metadata": {
        "id": "UQtWok3w4gd8"
      },
      "outputs": [],
      "source": [
        "from tensorflow import keras\n",
        "from tensorflow.keras import layers\n",
        "# #Here I am  using two hidden layers, each with 16 nodes, and only one node in the output layer for either +ve or -ve output. ReLu is used for hidden.\n",
        "model = keras.Sequential([\n",
        "    layers.Dense(16, activation=\"relu\"),\n",
        "    layers.Dense(16, activation=\"relu\"),\n",
        "    layers.Dense(1, activation=\"sigmoid\")\n",
        "])"
      ]
    },
    {
      "cell_type": "markdown",
      "metadata": {
        "id": "O3QUMWbG4gd9"
      },
      "source": [
        "**Compiling the model**"
      ]
    },
    {
      "cell_type": "markdown",
      "source": [
        "##Adam is used as the optimizer, and binary crossentropy is used as the loss function."
      ],
      "metadata": {
        "id": "Y_NWTttE61Bs"
      }
    },
    {
      "cell_type": "code",
      "execution_count": 11,
      "metadata": {
        "id": "r6Uyr88o4gd9"
      },
      "outputs": [],
      "source": [
        "model.compile(optimizer=\"adam\",\n",
        "              loss=\"binary_crossentropy\",\n",
        "              metrics=[\"accuracy\"])"
      ]
    },
    {
      "cell_type": "markdown",
      "metadata": {
        "id": "5_m7eoSq4gd9"
      },
      "source": [
        "### Validating your approach"
      ]
    },
    {
      "cell_type": "markdown",
      "metadata": {
        "id": "i4IHW5es4gd9"
      },
      "source": [
        "**Setting aside a validation set**"
      ]
    },
    {
      "cell_type": "code",
      "execution_count": 12,
      "metadata": {
        "id": "eAvaQCRq4gd-"
      },
      "outputs": [],
      "source": [
        "x_val = x_train[:10000]\n",
        "partial_x_train = x_train[10000:]\n",
        "y_val = y_train[:10000]\n",
        "partial_y_train = y_train[10000:]"
      ]
    },
    {
      "cell_type": "markdown",
      "metadata": {
        "id": "TzWpHpJj4gd-"
      },
      "source": [
        "**Training your model**"
      ]
    },
    {
      "cell_type": "markdown",
      "source": [
        "###we're training our model with 20 epochs and 512 batches."
      ],
      "metadata": {
        "id": "h56hnKT77Fyw"
      }
    },
    {
      "cell_type": "code",
      "execution_count": 13,
      "metadata": {
        "colab": {
          "base_uri": "https://localhost:8080/"
        },
        "id": "Fyau4PEL4gd-",
        "outputId": "f0b090ef-22b5-48c0-9f46-c1c6dd693c78"
      },
      "outputs": [
        {
          "output_type": "stream",
          "name": "stdout",
          "text": [
            "Epoch 1/20\n",
            "30/30 [==============================] - 2s 50ms/step - loss: 0.5796 - accuracy: 0.7176 - val_loss: 0.4524 - val_accuracy: 0.8536\n",
            "Epoch 2/20\n",
            "30/30 [==============================] - 1s 35ms/step - loss: 0.3484 - accuracy: 0.8947 - val_loss: 0.3253 - val_accuracy: 0.8826\n",
            "Epoch 3/20\n",
            "30/30 [==============================] - 1s 38ms/step - loss: 0.2318 - accuracy: 0.9276 - val_loss: 0.2794 - val_accuracy: 0.8882\n",
            "Epoch 4/20\n",
            "30/30 [==============================] - 1s 36ms/step - loss: 0.1633 - accuracy: 0.9485 - val_loss: 0.2807 - val_accuracy: 0.8881\n",
            "Epoch 5/20\n",
            "30/30 [==============================] - 1s 35ms/step - loss: 0.1228 - accuracy: 0.9661 - val_loss: 0.2958 - val_accuracy: 0.8835\n",
            "Epoch 6/20\n",
            "30/30 [==============================] - 1s 34ms/step - loss: 0.0937 - accuracy: 0.9759 - val_loss: 0.3119 - val_accuracy: 0.8823\n",
            "Epoch 7/20\n",
            "30/30 [==============================] - 1s 35ms/step - loss: 0.0704 - accuracy: 0.9847 - val_loss: 0.3363 - val_accuracy: 0.8809\n",
            "Epoch 8/20\n",
            "30/30 [==============================] - 1s 36ms/step - loss: 0.0533 - accuracy: 0.9907 - val_loss: 0.3602 - val_accuracy: 0.8774\n",
            "Epoch 9/20\n",
            "30/30 [==============================] - 1s 36ms/step - loss: 0.0399 - accuracy: 0.9947 - val_loss: 0.3886 - val_accuracy: 0.8755\n",
            "Epoch 10/20\n",
            "30/30 [==============================] - 1s 39ms/step - loss: 0.0298 - accuracy: 0.9967 - val_loss: 0.4136 - val_accuracy: 0.8743\n",
            "Epoch 11/20\n",
            "30/30 [==============================] - 1s 37ms/step - loss: 0.0225 - accuracy: 0.9986 - val_loss: 0.4402 - val_accuracy: 0.8734\n",
            "Epoch 12/20\n",
            "30/30 [==============================] - 1s 36ms/step - loss: 0.0172 - accuracy: 0.9993 - val_loss: 0.4658 - val_accuracy: 0.8735\n",
            "Epoch 13/20\n",
            "30/30 [==============================] - 1s 38ms/step - loss: 0.0133 - accuracy: 0.9997 - val_loss: 0.4940 - val_accuracy: 0.8711\n",
            "Epoch 14/20\n",
            "30/30 [==============================] - 1s 36ms/step - loss: 0.0108 - accuracy: 0.9997 - val_loss: 0.5109 - val_accuracy: 0.8707\n",
            "Epoch 15/20\n",
            "30/30 [==============================] - 1s 36ms/step - loss: 0.0087 - accuracy: 0.9999 - val_loss: 0.5311 - val_accuracy: 0.8699\n",
            "Epoch 16/20\n",
            "30/30 [==============================] - 1s 37ms/step - loss: 0.0072 - accuracy: 0.9999 - val_loss: 0.5505 - val_accuracy: 0.8690\n",
            "Epoch 17/20\n",
            "30/30 [==============================] - 1s 38ms/step - loss: 0.0060 - accuracy: 0.9999 - val_loss: 0.5669 - val_accuracy: 0.8682\n",
            "Epoch 18/20\n",
            "30/30 [==============================] - 1s 40ms/step - loss: 0.0051 - accuracy: 0.9999 - val_loss: 0.5821 - val_accuracy: 0.8675\n",
            "Epoch 19/20\n",
            "30/30 [==============================] - 1s 39ms/step - loss: 0.0044 - accuracy: 0.9999 - val_loss: 0.6003 - val_accuracy: 0.8671\n",
            "Epoch 20/20\n",
            "30/30 [==============================] - 1s 44ms/step - loss: 0.0039 - accuracy: 0.9999 - val_loss: 0.6141 - val_accuracy: 0.8670\n"
          ]
        }
      ],
      "source": [
        "history = model.fit(partial_x_train,\n",
        "                    partial_y_train,\n",
        "                    epochs=20,\n",
        "                    batch_size=512,\n",
        "                    validation_data=(x_val, y_val))"
      ]
    },
    {
      "cell_type": "code",
      "execution_count": 14,
      "metadata": {
        "colab": {
          "base_uri": "https://localhost:8080/"
        },
        "id": "fZ1-SGHg4gd-",
        "outputId": "f05753dd-02e7-4b4c-af64-35ea8289f46a"
      },
      "outputs": [
        {
          "output_type": "execute_result",
          "data": {
            "text/plain": [
              "dict_keys(['loss', 'accuracy', 'val_loss', 'val_accuracy'])"
            ]
          },
          "metadata": {},
          "execution_count": 14
        }
      ],
      "source": [
        "history_dict = history.history\n",
        "history_dict.keys()"
      ]
    },
    {
      "cell_type": "markdown",
      "metadata": {
        "id": "7ZEIwRF84gd_"
      },
      "source": [
        "**Plotting the training and validation loss**"
      ]
    },
    {
      "cell_type": "code",
      "execution_count": 15,
      "metadata": {
        "colab": {
          "base_uri": "https://localhost:8080/",
          "height": 295
        },
        "id": "r1nLOCM14gd_",
        "outputId": "bff44b74-71a1-4e50-d58a-559abf8130a3"
      },
      "outputs": [
        {
          "output_type": "display_data",
          "data": {
            "text/plain": [
              "<Figure size 432x288 with 1 Axes>"
            ],
            "image/png": "[encoded data removed]"
          },
          "metadata": {
            "needs_background": "light"
          }
        }
      ],
      "source": [
        "import matplotlib.pyplot as plt\n",
        "history_dict = history.history\n",
        "loss_values = history_dict[\"loss\"]\n",
        "val_loss_values = history_dict[\"val_loss\"]\n",
        "epochs = range(1, len(loss_values) + 1)\n",
        "plt.plot(epochs, loss_values, \"bo\", label=\"Training loss\")\n",
        "plt.plot(epochs, val_loss_values, \"b\", label=\"Validation loss\")\n",
        "plt.title(\"Training and validation loss\")\n",
        "plt.xlabel(\"Epochs\")\n",
        "plt.ylabel(\"Loss\")\n",
        "plt.legend()\n",
        "plt.show()"
      ]
    },
    {
      "cell_type": "markdown",
      "source": [
        "Validation loss and overfitting begin to increase after the third epoch. As a result, we must remodel using three or four epochs."
      ],
      "metadata": {
        "id": "VL1vGvfBCyYG"
      }
    },
    {
      "cell_type": "markdown",
      "metadata": {
        "id": "y3WAgbpl4gd_"
      },
      "source": [
        "**Plotting the training and validation accuracy**"
      ]
    },
    {
      "cell_type": "code",
      "execution_count": 17,
      "metadata": {
        "colab": {
          "base_uri": "https://localhost:8080/",
          "height": 295
        },
        "id": "YT-Nxa3c4geA",
        "outputId": "0e993616-cf9f-4c21-fccc-b742b98d0a75"
      },
      "outputs": [
        {
          "output_type": "display_data",
          "data": {
            "text/plain": [
              "<Figure size 432x288 with 1 Axes>"
            ],
            "image/png": "[encoded data removed]"
          },
          "metadata": {
            "needs_background": "light"
          }
        }
      ],
      "source": [
        "plt.clf()\n",
        "acc = history_dict[\"accuracy\"]\n",
        "val_acc = history_dict[\"val_accuracy\"]\n",
        "plt.plot(epochs, acc, \"bo\", label=\"Training acc\")\n",
        "plt.plot(epochs, val_acc, \"b\", label=\"Validation acc\")\n",
        "plt.title(\"Training and validation accuracy\")\n",
        "plt.xlabel(\"Epochs\")\n",
        "plt.ylabel(\"Accuracy\")\n",
        "plt.legend()\n",
        "plt.show()"
      ]
    },
    {
      "cell_type": "markdown",
      "source": [
        "Validation accuracy starts to decline around the third epoch."
      ],
      "metadata": {
        "id": "BysdG2KuC_bB"
      }
    },
    {
      "cell_type": "markdown",
      "metadata": {
        "id": "STANNLF44geA"
      },
      "source": [
        "**Retraining a model from scratch**"
      ]
    },
    {
      "cell_type": "code",
      "execution_count": 18,
      "metadata": {
        "colab": {
          "base_uri": "https://localhost:8080/"
        },
        "id": "JrbQY2JH4geA",
        "outputId": "bea0206b-3181-4c28-8f7d-fe583f930ff4"
      },
      "outputs": [
        {
          "output_type": "stream",
          "name": "stdout",
          "text": [
            "Epoch 1/4\n",
            "49/49 [==============================] - 3s 33ms/step - loss: 0.4979 - accuracy: 0.7956\n",
            "Epoch 2/4\n",
            "49/49 [==============================] - 1s 28ms/step - loss: 0.2574 - accuracy: 0.9089\n",
            "Epoch 3/4\n",
            "49/49 [==============================] - 1s 28ms/step - loss: 0.1873 - accuracy: 0.9348\n",
            "Epoch 4/4\n",
            "49/49 [==============================] - 1s 29ms/step - loss: 0.1515 - accuracy: 0.9476\n",
            "782/782 [==============================] - 2s 2ms/step - loss: 0.3027 - accuracy: 0.8815\n"
          ]
        }
      ],
      "source": [
        "model = keras.Sequential([\n",
        "    layers.Dense(16, activation=\"relu\"),\n",
        "    layers.Dense(16, activation=\"relu\"),\n",
        "    layers.Dense(1, activation=\"sigmoid\")\n",
        "])\n",
        "#Here i am using three epochs to retrain the model here.\n",
        "model.compile(optimizer=\"adam\",\n",
        "              loss=\"binary_crossentropy\",\n",
        "              metrics=[\"accuracy\"])\n",
        "model.fit(x_train, y_train, epochs=4, batch_size=512)\n",
        "results = model.evaluate(x_test, y_test)"
      ]
    },
    {
      "cell_type": "code",
      "execution_count": 19,
      "metadata": {
        "colab": {
          "base_uri": "https://localhost:8080/"
        },
        "id": "Qr86ooyZ4geB",
        "outputId": "a0b76177-f52c-4da7-88a4-735e73a9d921"
      },
      "outputs": [
        {
          "output_type": "execute_result",
          "data": {
            "text/plain": [
              "[0.3026789724826813, 0.8814799785614014]"
            ]
          },
          "metadata": {},
          "execution_count": 19
        }
      ],
      "source": [
        "results"
      ]
    },
    {
      "cell_type": "markdown",
      "metadata": {
        "id": "M0gs4f5j4geG"
      },
      "source": [
        "### Building your model"
      ]
    },
    {
      "cell_type": "markdown",
      "source": [
        "#### 1 using one or three hidden layers, and see how doing so \n",
        "affects validation and test accuracy.   "
      ],
      "metadata": {
        "id": "Cd32cc2EDk3a"
      }
    },
    {
      "cell_type": "code",
      "source": [
        "#I am creating a model with just 1 hidden layer and the ReLu activation function.\n",
        "model1_1 = keras.Sequential([\n",
        "    layers.Dense(16, activation=\"relu\"),\n",
        "    layers.Dense(1, activation=\"sigmoid\")\n",
        "])"
      ],
      "metadata": {
        "id": "SmjOxTPrEmBF"
      },
      "execution_count": 20,
      "outputs": []
    },
    {
      "cell_type": "code",
      "source": [
        "# I am using three hidden layers here, with ReLu activation function and sigmoid for output layer.\n",
        "model1_3 = keras.Sequential([\n",
        "    layers.Dense(16, activation=\"relu\"),\n",
        "    layers.Dense(16, activation=\"relu\"),\n",
        "    layers.Dense(16, activation=\"relu\"),\n",
        "    layers.Dense(1, activation=\"sigmoid\")\n",
        "])"
      ],
      "metadata": {
        "id": "_tpvfmvvEvZx"
      },
      "execution_count": 21,
      "outputs": []
    },
    {
      "cell_type": "code",
      "source": [
        "#Adam and binary crossentropy are used in both scenarios (3 and 1 layers)\n",
        "model1_1.compile(optimizer=\"adam\",\n",
        "              loss=\"binary_crossentropy\",\n",
        "              metrics=[\"accuracy\"])"
      ],
      "metadata": {
        "id": "SIXY0zuBE5p9"
      },
      "execution_count": 22,
      "outputs": []
    },
    {
      "cell_type": "code",
      "source": [
        "model1_3.compile(optimizer=\"adam\",\n",
        "              loss=\"binary_crossentropy\",\n",
        "              metrics=[\"accuracy\"])\n"
      ],
      "metadata": {
        "id": "pqIXT5S1E6qP"
      },
      "execution_count": 23,
      "outputs": []
    },
    {
      "cell_type": "code",
      "source": [
        "# model fitting with 20 epochs and 512 batch size\n",
        "history1_1 = model1_1.fit(partial_x_train,\n",
        "                    partial_y_train,\n",
        "                    epochs=20,\n",
        "                    batch_size=512,\n",
        "                    validation_data=(x_val, y_val))"
      ],
      "metadata": {
        "colab": {
          "base_uri": "https://localhost:8080/"
        },
        "id": "Qyy3LihNFdpt",
        "outputId": "380cf40c-332e-4da6-9307-c69940ccaf32"
      },
      "execution_count": 24,
      "outputs": [
        {
          "output_type": "stream",
          "name": "stdout",
          "text": [
            "Epoch 1/20\n",
            "30/30 [==============================] - 2s 44ms/step - loss: 0.5550 - accuracy: 0.7721 - val_loss: 0.4230 - val_accuracy: 0.8575\n",
            "Epoch 2/20\n",
            "30/30 [==============================] - 1s 35ms/step - loss: 0.3395 - accuracy: 0.8928 - val_loss: 0.3305 - val_accuracy: 0.8800\n",
            "Epoch 3/20\n",
            "30/30 [==============================] - 1s 36ms/step - loss: 0.2556 - accuracy: 0.9207 - val_loss: 0.2963 - val_accuracy: 0.8886\n",
            "Epoch 4/20\n",
            "30/30 [==============================] - 1s 37ms/step - loss: 0.2090 - accuracy: 0.9379 - val_loss: 0.2829 - val_accuracy: 0.8912\n",
            "Epoch 5/20\n",
            "30/30 [==============================] - 1s 36ms/step - loss: 0.1771 - accuracy: 0.9473 - val_loss: 0.2792 - val_accuracy: 0.8890\n",
            "Epoch 6/20\n",
            "30/30 [==============================] - 1s 37ms/step - loss: 0.1531 - accuracy: 0.9567 - val_loss: 0.2777 - val_accuracy: 0.8898\n",
            "Epoch 7/20\n",
            "30/30 [==============================] - 1s 37ms/step - loss: 0.1334 - accuracy: 0.9645 - val_loss: 0.2813 - val_accuracy: 0.8887\n",
            "Epoch 8/20\n",
            "30/30 [==============================] - 1s 36ms/step - loss: 0.1163 - accuracy: 0.9704 - val_loss: 0.2859 - val_accuracy: 0.8858\n",
            "Epoch 9/20\n",
            "30/30 [==============================] - 1s 36ms/step - loss: 0.1028 - accuracy: 0.9754 - val_loss: 0.2928 - val_accuracy: 0.8833\n",
            "Epoch 10/20\n",
            "30/30 [==============================] - 1s 36ms/step - loss: 0.0913 - accuracy: 0.9796 - val_loss: 0.3019 - val_accuracy: 0.8836\n",
            "Epoch 11/20\n",
            "30/30 [==============================] - 1s 39ms/step - loss: 0.0810 - accuracy: 0.9841 - val_loss: 0.3105 - val_accuracy: 0.8819\n",
            "Epoch 12/20\n",
            "30/30 [==============================] - 1s 38ms/step - loss: 0.0723 - accuracy: 0.9866 - val_loss: 0.3207 - val_accuracy: 0.8813\n",
            "Epoch 13/20\n",
            "30/30 [==============================] - 1s 37ms/step - loss: 0.0650 - accuracy: 0.9890 - val_loss: 0.3329 - val_accuracy: 0.8814\n",
            "Epoch 14/20\n",
            "30/30 [==============================] - 1s 37ms/step - loss: 0.0583 - accuracy: 0.9912 - val_loss: 0.3420 - val_accuracy: 0.8802\n",
            "Epoch 15/20\n",
            "30/30 [==============================] - 1s 36ms/step - loss: 0.0521 - accuracy: 0.9931 - val_loss: 0.3524 - val_accuracy: 0.8802\n",
            "Epoch 16/20\n",
            "30/30 [==============================] - 1s 35ms/step - loss: 0.0470 - accuracy: 0.9939 - val_loss: 0.3632 - val_accuracy: 0.8785\n",
            "Epoch 17/20\n",
            "30/30 [==============================] - 1s 35ms/step - loss: 0.0426 - accuracy: 0.9953 - val_loss: 0.3752 - val_accuracy: 0.8779\n",
            "Epoch 18/20\n",
            "30/30 [==============================] - 1s 35ms/step - loss: 0.0381 - accuracy: 0.9967 - val_loss: 0.3865 - val_accuracy: 0.8761\n",
            "Epoch 19/20\n",
            "30/30 [==============================] - 1s 37ms/step - loss: 0.0343 - accuracy: 0.9973 - val_loss: 0.3972 - val_accuracy: 0.8749\n",
            "Epoch 20/20\n",
            "30/30 [==============================] - 1s 35ms/step - loss: 0.0310 - accuracy: 0.9977 - val_loss: 0.4088 - val_accuracy: 0.8744\n"
          ]
        }
      ]
    },
    {
      "cell_type": "code",
      "source": [
        "history1_3 = model1_3.fit(partial_x_train,\n",
        "                    partial_y_train,\n",
        "                    epochs=20,\n",
        "                    batch_size=512,\n",
        "                    validation_data=(x_val, y_val))\n"
      ],
      "metadata": {
        "colab": {
          "base_uri": "https://localhost:8080/"
        },
        "id": "RLGhzg4uFgRi",
        "outputId": "9fb77240-c280-4a19-c964-7f9beb5842d5"
      },
      "execution_count": 25,
      "outputs": [
        {
          "output_type": "stream",
          "name": "stdout",
          "text": [
            "Epoch 1/20\n",
            "30/30 [==============================] - 2s 44ms/step - loss: 0.5949 - accuracy: 0.6919 - val_loss: 0.4400 - val_accuracy: 0.8581\n",
            "Epoch 2/20\n",
            "30/30 [==============================] - 1s 36ms/step - loss: 0.3081 - accuracy: 0.9013 - val_loss: 0.2897 - val_accuracy: 0.8863\n",
            "Epoch 3/20\n",
            "30/30 [==============================] - 1s 36ms/step - loss: 0.1828 - accuracy: 0.9393 - val_loss: 0.2975 - val_accuracy: 0.8836\n",
            "Epoch 4/20\n",
            "30/30 [==============================] - 1s 36ms/step - loss: 0.1285 - accuracy: 0.9601 - val_loss: 0.3090 - val_accuracy: 0.8838\n",
            "Epoch 5/20\n",
            "30/30 [==============================] - 1s 36ms/step - loss: 0.0902 - accuracy: 0.9733 - val_loss: 0.3323 - val_accuracy: 0.8817\n",
            "Epoch 6/20\n",
            "30/30 [==============================] - 1s 36ms/step - loss: 0.0626 - accuracy: 0.9861 - val_loss: 0.3785 - val_accuracy: 0.8791\n",
            "Epoch 7/20\n",
            "30/30 [==============================] - 1s 36ms/step - loss: 0.0435 - accuracy: 0.9923 - val_loss: 0.4120 - val_accuracy: 0.8758\n",
            "Epoch 8/20\n",
            "30/30 [==============================] - 1s 39ms/step - loss: 0.0293 - accuracy: 0.9959 - val_loss: 0.4520 - val_accuracy: 0.8750\n",
            "Epoch 9/20\n",
            "30/30 [==============================] - 1s 37ms/step - loss: 0.0200 - accuracy: 0.9983 - val_loss: 0.4930 - val_accuracy: 0.8737\n",
            "Epoch 10/20\n",
            "30/30 [==============================] - 1s 37ms/step - loss: 0.0135 - accuracy: 0.9991 - val_loss: 0.5300 - val_accuracy: 0.8710\n",
            "Epoch 11/20\n",
            "30/30 [==============================] - 1s 48ms/step - loss: 0.0096 - accuracy: 0.9993 - val_loss: 0.5658 - val_accuracy: 0.8702\n",
            "Epoch 12/20\n",
            "30/30 [==============================] - 1s 46ms/step - loss: 0.0069 - accuracy: 0.9995 - val_loss: 0.5957 - val_accuracy: 0.8687\n",
            "Epoch 13/20\n",
            "30/30 [==============================] - 1s 38ms/step - loss: 0.0050 - accuracy: 0.9998 - val_loss: 0.6251 - val_accuracy: 0.8700\n",
            "Epoch 14/20\n",
            "30/30 [==============================] - 1s 38ms/step - loss: 0.0038 - accuracy: 0.9999 - val_loss: 0.6513 - val_accuracy: 0.8682\n",
            "Epoch 15/20\n",
            "30/30 [==============================] - 1s 37ms/step - loss: 0.0030 - accuracy: 0.9999 - val_loss: 0.6784 - val_accuracy: 0.8674\n",
            "Epoch 16/20\n",
            "30/30 [==============================] - 1s 38ms/step - loss: 0.0024 - accuracy: 1.0000 - val_loss: 0.6995 - val_accuracy: 0.8680\n",
            "Epoch 17/20\n",
            "30/30 [==============================] - 1s 38ms/step - loss: 0.0020 - accuracy: 1.0000 - val_loss: 0.7212 - val_accuracy: 0.8674\n",
            "Epoch 18/20\n",
            "30/30 [==============================] - 1s 36ms/step - loss: 0.0017 - accuracy: 1.0000 - val_loss: 0.7402 - val_accuracy: 0.8667\n",
            "Epoch 19/20\n",
            "30/30 [==============================] - 1s 36ms/step - loss: 0.0015 - accuracy: 1.0000 - val_loss: 0.7577 - val_accuracy: 0.8663\n",
            "Epoch 20/20\n",
            "30/30 [==============================] - 1s 36ms/step - loss: 0.0013 - accuracy: 1.0000 - val_loss: 0.7751 - val_accuracy: 0.8666\n"
          ]
        }
      ]
    },
    {
      "cell_type": "markdown",
      "source": [
        "plotting training vs validation loss"
      ],
      "metadata": {
        "id": "Xu5I33AGGBGa"
      }
    },
    {
      "cell_type": "code",
      "source": [
        "historyp1_1 = history1_1.history\n",
        "historyp1_1.keys()"
      ],
      "metadata": {
        "colab": {
          "base_uri": "https://localhost:8080/"
        },
        "id": "dVQN99vzGASd",
        "outputId": "bf6f6f99-eb05-4410-9f27-d87e47753b27"
      },
      "execution_count": 26,
      "outputs": [
        {
          "output_type": "execute_result",
          "data": {
            "text/plain": [
              "dict_keys(['loss', 'accuracy', 'val_loss', 'val_accuracy'])"
            ]
          },
          "metadata": {},
          "execution_count": 26
        }
      ]
    },
    {
      "cell_type": "code",
      "source": [
        "historyp1_3 = history1_1.history\n",
        "historyp1_3.keys()"
      ],
      "metadata": {
        "colab": {
          "base_uri": "https://localhost:8080/"
        },
        "id": "_dPN8jwVGkpa",
        "outputId": "0f18cc8c-ebac-4595-9e0d-d69c1b48dc5e"
      },
      "execution_count": 27,
      "outputs": [
        {
          "output_type": "execute_result",
          "data": {
            "text/plain": [
              "dict_keys(['loss', 'accuracy', 'val_loss', 'val_accuracy'])"
            ]
          },
          "metadata": {},
          "execution_count": 27
        }
      ]
    },
    {
      "cell_type": "code",
      "source": [
        "historyp1_1 = history1_1.history\n",
        "loss_values1 = historyp1_1[\"loss\"]\n",
        "val_loss_values1 = historyp1_1[\"val_loss\"]\n",
        "epochs = range(1, len(loss_values) + 1)\n",
        "plt.plot(epochs, loss_values1, \"bo\", label=\"Training loss\")\n",
        "plt.plot(epochs, val_loss_values1, \"b\", label=\"Validation loss\")\n",
        "plt.title(\"Training and validation loss\")\n",
        "plt.xlabel(\"Epochs\")\n",
        "plt.ylabel(\"Loss\")\n",
        "plt.legend()\n",
        "plt.show()"
      ],
      "metadata": {
        "colab": {
          "base_uri": "https://localhost:8080/",
          "height": 295
        },
        "id": "HyjxfsTfHdys",
        "outputId": "18d62e5a-46d6-4cbc-873d-ac02a3efee81"
      },
      "execution_count": 28,
      "outputs": [
        {
          "output_type": "display_data",
          "data": {
            "text/plain": [
              "<Figure size 432x288 with 1 Axes>"
            ],
            "image/png": "[encoded data removed]"
          },
          "metadata": {
            "needs_background": "light"
          }
        }
      ]
    },
    {
      "cell_type": "code",
      "source": [
        "historyp1_3 = history1_3.history\n",
        "loss_values3 = historyp1_3[\"loss\"]\n",
        "val_loss_values3 = historyp1_3[\"val_loss\"]\n",
        "epochs = range(1, len(loss_values) + 1)\n",
        "plt.plot(epochs, loss_values3, \"bo\", label=\"Training loss\")\n",
        "plt.plot(epochs, val_loss_values3, \"b\", label=\"Validation loss\")\n",
        "plt.title(\"Training and validation loss\")\n",
        "plt.xlabel(\"Epochs\")\n",
        "plt.ylabel(\"Loss\")\n",
        "plt.legend()\n",
        "plt.show()"
      ],
      "metadata": {
        "colab": {
          "base_uri": "https://localhost:8080/",
          "height": 295
        },
        "id": "WN6_JX-SHLGt",
        "outputId": "c4dba321-c4d6-4c44-b395-2f922bb4d067"
      },
      "execution_count": 29,
      "outputs": [
        {
          "output_type": "display_data",
          "data": {
            "text/plain": [
              "<Figure size 432x288 with 1 Axes>"
            ],
            "image/png": "[encoded data removed]"
          },
          "metadata": {
            "needs_background": "light"
          }
        }
      ]
    },
    {
      "cell_type": "code",
      "source": [
        "plt.clf()\n",
        "acc1 = historyp1_1[\"accuracy\"]\n",
        "val_acc1 = historyp1_1[\"val_accuracy\"]\n",
        "plt.plot(epochs, acc1, \"bo\", label=\"Training acc\")\n",
        "plt.plot(epochs, val_acc1, \"b\", label=\"Validation acc\")\n",
        "plt.title(\"Training and validation accuracy\")\n",
        "plt.xlabel(\"Epochs\")\n",
        "plt.ylabel(\"Accuracy\")\n",
        "plt.legend()\n",
        "plt.show()"
      ],
      "metadata": {
        "colab": {
          "base_uri": "https://localhost:8080/",
          "height": 295
        },
        "id": "yuaAc-XCIPlQ",
        "outputId": "554b235b-0950-4032-e478-cc4093279a5e"
      },
      "execution_count": 30,
      "outputs": [
        {
          "output_type": "display_data",
          "data": {
            "text/plain": [
              "<Figure size 432x288 with 1 Axes>"
            ],
            "image/png": "[encoded data removed]"
          },
          "metadata": {
            "needs_background": "light"
          }
        }
      ]
    },
    {
      "cell_type": "code",
      "source": [
        "plt.clf()\n",
        "acc3 = historyp1_3[\"accuracy\"]\n",
        "val_acc3 = historyp1_3[\"val_accuracy\"]\n",
        "plt.plot(epochs, acc3, \"bo\", label=\"Training acc\")\n",
        "plt.plot(epochs, val_acc3, \"b\", label=\"Validation acc\")\n",
        "plt.title(\"Training and validation accuracy\")\n",
        "plt.xlabel(\"Epochs\")\n",
        "plt.ylabel(\"Accuracy\")\n",
        "plt.legend()\n",
        "plt.show()"
      ],
      "metadata": {
        "colab": {
          "base_uri": "https://localhost:8080/",
          "height": 295
        },
        "id": "88--rjv8IRWC",
        "outputId": "706a6c9e-d6bb-436e-fa1b-b595c333bfcb"
      },
      "execution_count": 31,
      "outputs": [
        {
          "output_type": "display_data",
          "data": {
            "text/plain": [
              "<Figure size 432x288 with 1 Axes>"
            ],
            "image/png": "[encoded data removed]"
          },
          "metadata": {
            "needs_background": "light"
          }
        }
      ]
    },
    {
      "cell_type": "markdown",
      "source": [
        "When only one hidden layer is used, validation accuracy begins to decline after the fourth epoch while training accuracy continues to rise. The training loss clearly shows a decreasing trend in the graph, whereas the validation loss initially decreased but increased after the fifth epoch, indicating overfitting. When using three hidden layers, accuracy increased for two epochs and then began to fluctuate. Adding more layers resulted in less accuracy."
      ],
      "metadata": {
        "id": "0_tonS43Inc5"
      }
    },
    {
      "cell_type": "markdown",
      "source": [
        "####2 For the  hidden layers  we are using  nodes 32 units, 64 units"
      ],
      "metadata": {
        "id": "okgOnTp9Ji17"
      }
    },
    {
      "cell_type": "code",
      "source": [
        "model2 = keras.Sequential([\n",
        "    layers.Dense(32, activation=\"relu\"),\n",
        "    layers.Dense(64, activation=\"relu\"),\n",
        "    layers.Dense(1, activation=\"sigmoid\")\n",
        "])"
      ],
      "metadata": {
        "id": "Oyk3Fqg7Jkbi"
      },
      "execution_count": 32,
      "outputs": []
    },
    {
      "cell_type": "code",
      "source": [
        "model2.compile(optimizer=\"adam\",\n",
        "              loss=\"binary_crossentropy\",\n",
        "              metrics=[\"accuracy\"])"
      ],
      "metadata": {
        "id": "OaDeaG4vJsPa"
      },
      "execution_count": 33,
      "outputs": []
    },
    {
      "cell_type": "code",
      "source": [
        "hist2 = model2.fit(partial_x_train,\n",
        "                    partial_y_train,\n",
        "                    epochs=20,\n",
        "                    batch_size=512,\n",
        "                    validation_data=(x_val, y_val))"
      ],
      "metadata": {
        "colab": {
          "base_uri": "https://localhost:8080/"
        },
        "id": "SNApGf3JJvnh",
        "outputId": "ced92854-d8f9-4285-f168-6b767afca8f6"
      },
      "execution_count": 34,
      "outputs": [
        {
          "output_type": "stream",
          "name": "stdout",
          "text": [
            "Epoch 1/20\n",
            "30/30 [==============================] - 2s 56ms/step - loss: 0.5203 - accuracy: 0.7681 - val_loss: 0.3393 - val_accuracy: 0.8720\n",
            "Epoch 2/20\n",
            "30/30 [==============================] - 2s 73ms/step - loss: 0.2428 - accuracy: 0.9117 - val_loss: 0.2833 - val_accuracy: 0.8866\n",
            "Epoch 3/20\n",
            "30/30 [==============================] - 2s 63ms/step - loss: 0.1513 - accuracy: 0.9488 - val_loss: 0.2885 - val_accuracy: 0.8857\n",
            "Epoch 4/20\n",
            "30/30 [==============================] - 1s 46ms/step - loss: 0.1012 - accuracy: 0.9691 - val_loss: 0.3255 - val_accuracy: 0.8804\n",
            "Epoch 5/20\n",
            "30/30 [==============================] - 1s 46ms/step - loss: 0.0655 - accuracy: 0.9837 - val_loss: 0.3693 - val_accuracy: 0.8789\n",
            "Epoch 6/20\n",
            "30/30 [==============================] - 1s 48ms/step - loss: 0.0407 - accuracy: 0.9921 - val_loss: 0.4121 - val_accuracy: 0.8761\n",
            "Epoch 7/20\n",
            "30/30 [==============================] - 1s 46ms/step - loss: 0.0233 - accuracy: 0.9970 - val_loss: 0.4634 - val_accuracy: 0.8730\n",
            "Epoch 8/20\n",
            "30/30 [==============================] - 1s 46ms/step - loss: 0.0138 - accuracy: 0.9995 - val_loss: 0.5055 - val_accuracy: 0.8738\n",
            "Epoch 9/20\n",
            "30/30 [==============================] - 1s 45ms/step - loss: 0.0085 - accuracy: 0.9999 - val_loss: 0.5438 - val_accuracy: 0.8706\n",
            "Epoch 10/20\n",
            "30/30 [==============================] - 1s 46ms/step - loss: 0.0058 - accuracy: 0.9999 - val_loss: 0.5758 - val_accuracy: 0.8707\n",
            "Epoch 11/20\n",
            "30/30 [==============================] - 1s 46ms/step - loss: 0.0041 - accuracy: 0.9999 - val_loss: 0.6041 - val_accuracy: 0.8691\n",
            "Epoch 12/20\n",
            "30/30 [==============================] - 1s 45ms/step - loss: 0.0032 - accuracy: 0.9999 - val_loss: 0.6301 - val_accuracy: 0.8688\n",
            "Epoch 13/20\n",
            "30/30 [==============================] - 1s 46ms/step - loss: 0.0025 - accuracy: 0.9999 - val_loss: 0.6497 - val_accuracy: 0.8695\n",
            "Epoch 14/20\n",
            "30/30 [==============================] - 1s 46ms/step - loss: 0.0020 - accuracy: 0.9999 - val_loss: 0.6729 - val_accuracy: 0.8683\n",
            "Epoch 15/20\n",
            "30/30 [==============================] - 1s 44ms/step - loss: 0.0016 - accuracy: 0.9999 - val_loss: 0.6946 - val_accuracy: 0.8682\n",
            "Epoch 16/20\n",
            "30/30 [==============================] - 1s 45ms/step - loss: 0.0013 - accuracy: 0.9999 - val_loss: 0.7159 - val_accuracy: 0.8683\n",
            "Epoch 17/20\n",
            "30/30 [==============================] - 1s 44ms/step - loss: 0.0010 - accuracy: 0.9999 - val_loss: 0.7361 - val_accuracy: 0.8678\n",
            "Epoch 18/20\n",
            "30/30 [==============================] - 1s 44ms/step - loss: 8.5970e-04 - accuracy: 0.9999 - val_loss: 0.7559 - val_accuracy: 0.8676\n",
            "Epoch 19/20\n",
            "30/30 [==============================] - 1s 44ms/step - loss: 6.8974e-04 - accuracy: 1.0000 - val_loss: 0.7734 - val_accuracy: 0.8676\n",
            "Epoch 20/20\n",
            "30/30 [==============================] - 1s 44ms/step - loss: 5.7515e-04 - accuracy: 1.0000 - val_loss: 0.7912 - val_accuracy: 0.8671\n"
          ]
        }
      ]
    },
    {
      "cell_type": "code",
      "source": [
        "histp2 = hist2.history\n",
        "loss_values = histp2[\"loss\"]\n",
        "val_loss_values = histp2[\"val_loss\"]\n",
        "epochs = range(1, len(loss_values) + 1)\n",
        "plt.plot(epochs, loss_values, \"bo\", label=\"Training loss\")\n",
        "plt.plot(epochs, val_loss_values, \"b\", label=\"Validation loss\")\n",
        "plt.title(\"Training and validation loss\")\n",
        "plt.xlabel(\"Epochs\")\n",
        "plt.ylabel(\"Loss\")\n",
        "plt.legend()\n",
        "plt.show()\n",
        "\n",
        "plt.clf()\n",
        "acc = histp2[\"accuracy\"]\n",
        "val_acc = histp2[\"val_accuracy\"]\n",
        "plt.plot(epochs, acc, \"bo\", label=\"Training acc\")\n",
        "plt.plot(epochs, val_acc, \"b\", label=\"Validation acc\")\n",
        "plt.title(\"Training and validation accuracy\")\n",
        "plt.xlabel(\"Epochs\")\n",
        "plt.ylabel(\"Accuracy\")\n",
        "plt.legend()\n",
        "plt.show()"
      ],
      "metadata": {
        "colab": {
          "base_uri": "https://localhost:8080/",
          "height": 573
        },
        "id": "Z3cpiU-8KBFa",
        "outputId": "fb195b3b-5c36-45e1-cee8-6a7b357d2bfa"
      },
      "execution_count": 35,
      "outputs": [
        {
          "output_type": "display_data",
          "data": {
            "text/plain": [
              "<Figure size 432x288 with 1 Axes>"
            ],
            "image/png": "[encoded data removed]"
          },
          "metadata": {
            "needs_background": "light"
          }
        },
        {
          "output_type": "display_data",
          "data": {
            "text/plain": [
              "<Figure size 432x288 with 1 Axes>"
            ],
            "image/png": "[encoded data removed]"
          },
          "metadata": {
            "needs_background": "light"
          }
        }
      ]
    },
    {
      "cell_type": "markdown",
      "source": [
        "Trraining loss is studied less during the training phase, whereas validation loss is studied more from the third epoch. Validation accuracy increased after the third epoch and gradually decreased after that. Increasing the number of nodes in the network resulted in a decrease in accuracy."
      ],
      "metadata": {
        "id": "lVpAXOuvKYKc"
      }
    },
    {
      "cell_type": "markdown",
      "source": [
        "#3 using the mse loss function instead of binary_crossentropy.   "
      ],
      "metadata": {
        "id": "D29gVmW1LBl0"
      }
    },
    {
      "cell_type": "code",
      "source": [
        "model3 = keras.Sequential([\n",
        "    layers.Dense(16, activation=\"relu\"),\n",
        "    layers.Dense(16, activation=\"relu\"),\n",
        "    layers.Dense(1, activation=\"sigmoid\")\n",
        "])"
      ],
      "metadata": {
        "id": "UO--XlcjLDJP"
      },
      "execution_count": 36,
      "outputs": []
    },
    {
      "cell_type": "code",
      "source": [
        "#So Here, I used the MSE loss function instead of the binary cross entropy that he has previously used.\n",
        "model3.compile(optimizer=\"adam\",\n",
        "              loss=\"mse\",\n",
        "              metrics=[\"accuracy\"])"
      ],
      "metadata": {
        "id": "UXPqAbjNLJ8d"
      },
      "execution_count": 37,
      "outputs": []
    },
    {
      "cell_type": "code",
      "source": [
        "hist3 = model3.fit(partial_x_train,\n",
        "                    partial_y_train,\n",
        "                    epochs=20,\n",
        "                    batch_size=512,\n",
        "                    validation_data=(x_val, y_val))"
      ],
      "metadata": {
        "colab": {
          "base_uri": "https://localhost:8080/"
        },
        "id": "3Hu8B62JLNMC",
        "outputId": "c39a3715-eec8-4239-87f2-ab933b5459dd"
      },
      "execution_count": 38,
      "outputs": [
        {
          "output_type": "stream",
          "name": "stdout",
          "text": [
            "Epoch 1/20\n",
            "30/30 [==============================] - 2s 54ms/step - loss: 0.1900 - accuracy: 0.7722 - val_loss: 0.1287 - val_accuracy: 0.8611\n",
            "Epoch 2/20\n",
            "30/30 [==============================] - 1s 36ms/step - loss: 0.0943 - accuracy: 0.9025 - val_loss: 0.0943 - val_accuracy: 0.8879\n",
            "Epoch 3/20\n",
            "30/30 [==============================] - 1s 36ms/step - loss: 0.0637 - accuracy: 0.9342 - val_loss: 0.0854 - val_accuracy: 0.8909\n",
            "Epoch 4/20\n",
            "30/30 [==============================] - 1s 36ms/step - loss: 0.0476 - accuracy: 0.9530 - val_loss: 0.0835 - val_accuracy: 0.8891\n",
            "Epoch 5/20\n",
            "30/30 [==============================] - 1s 36ms/step - loss: 0.0369 - accuracy: 0.9665 - val_loss: 0.0838 - val_accuracy: 0.8860\n",
            "Epoch 6/20\n",
            "30/30 [==============================] - 1s 39ms/step - loss: 0.0288 - accuracy: 0.9757 - val_loss: 0.0849 - val_accuracy: 0.8838\n",
            "Epoch 7/20\n",
            "30/30 [==============================] - 1s 36ms/step - loss: 0.0224 - accuracy: 0.9833 - val_loss: 0.0873 - val_accuracy: 0.8803\n",
            "Epoch 8/20\n",
            "30/30 [==============================] - 1s 36ms/step - loss: 0.0178 - accuracy: 0.9876 - val_loss: 0.0897 - val_accuracy: 0.8815\n",
            "Epoch 9/20\n",
            "30/30 [==============================] - 1s 36ms/step - loss: 0.0144 - accuracy: 0.9910 - val_loss: 0.0912 - val_accuracy: 0.8769\n",
            "Epoch 10/20\n",
            "30/30 [==============================] - 1s 37ms/step - loss: 0.0112 - accuracy: 0.9931 - val_loss: 0.0929 - val_accuracy: 0.8778\n",
            "Epoch 11/20\n",
            "30/30 [==============================] - 1s 38ms/step - loss: 0.0088 - accuracy: 0.9947 - val_loss: 0.0948 - val_accuracy: 0.8743\n",
            "Epoch 12/20\n",
            "30/30 [==============================] - 1s 37ms/step - loss: 0.0072 - accuracy: 0.9954 - val_loss: 0.0962 - val_accuracy: 0.8740\n",
            "Epoch 13/20\n",
            "30/30 [==============================] - 1s 37ms/step - loss: 0.0061 - accuracy: 0.9962 - val_loss: 0.0978 - val_accuracy: 0.8716\n",
            "Epoch 14/20\n",
            "30/30 [==============================] - 1s 39ms/step - loss: 0.0054 - accuracy: 0.9965 - val_loss: 0.0988 - val_accuracy: 0.8713\n",
            "Epoch 15/20\n",
            "30/30 [==============================] - 1s 36ms/step - loss: 0.0048 - accuracy: 0.9967 - val_loss: 0.1002 - val_accuracy: 0.8704\n",
            "Epoch 16/20\n",
            "30/30 [==============================] - 1s 37ms/step - loss: 0.0043 - accuracy: 0.9968 - val_loss: 0.1012 - val_accuracy: 0.8693\n",
            "Epoch 17/20\n",
            "30/30 [==============================] - 1s 36ms/step - loss: 0.0040 - accuracy: 0.9969 - val_loss: 0.1020 - val_accuracy: 0.8687\n",
            "Epoch 18/20\n",
            "30/30 [==============================] - 1s 36ms/step - loss: 0.0038 - accuracy: 0.9970 - val_loss: 0.1031 - val_accuracy: 0.8681\n",
            "Epoch 19/20\n",
            "30/30 [==============================] - 1s 40ms/step - loss: 0.0036 - accuracy: 0.9972 - val_loss: 0.1037 - val_accuracy: 0.8685\n",
            "Epoch 20/20\n",
            "30/30 [==============================] - 1s 38ms/step - loss: 0.0034 - accuracy: 0.9972 - val_loss: 0.1041 - val_accuracy: 0.8683\n"
          ]
        }
      ]
    },
    {
      "cell_type": "code",
      "source": [
        "\n",
        "histp3 = hist3.history\n",
        "loss_values = histp3[\"loss\"]\n",
        "val_loss_values = histp3[\"val_loss\"]\n",
        "epochs = range(1, len(loss_values) + 1)\n",
        "plt.plot(epochs, loss_values, \"bo\", label=\"Training loss\")\n",
        "plt.plot(epochs, val_loss_values, \"b\", label=\"Validation loss\")\n",
        "plt.title(\"Training and validation loss\")\n",
        "plt.xlabel(\"Epochs\")\n",
        "plt.ylabel(\"Loss\")\n",
        "plt.legend()\n",
        "plt.show()"
      ],
      "metadata": {
        "colab": {
          "base_uri": "https://localhost:8080/",
          "height": 295
        },
        "id": "nLCtMhjfLyd_",
        "outputId": "9091f104-66e6-473c-8ecc-96fe26cc0a95"
      },
      "execution_count": 39,
      "outputs": [
        {
          "output_type": "display_data",
          "data": {
            "text/plain": [
              "<Figure size 432x288 with 1 Axes>"
            ],
            "image/png": "[encoded data removed]"
          },
          "metadata": {
            "needs_background": "light"
          }
        }
      ]
    },
    {
      "cell_type": "code",
      "source": [
        "plt.clf()\n",
        "acc = histp3[\"accuracy\"]\n",
        "val_acc = histp3[\"val_accuracy\"]\n",
        "plt.plot(epochs, acc, \"bo\", label=\"Training acc\")\n",
        "plt.plot(epochs, val_acc, \"b\", label=\"Validation acc\")\n",
        "plt.title(\"Training and validation accuracy\")\n",
        "plt.xlabel(\"Epochs\")\n",
        "plt.ylabel(\"Accuracy\")\n",
        "plt.legend()\n",
        "plt.show()"
      ],
      "metadata": {
        "colab": {
          "base_uri": "https://localhost:8080/",
          "height": 295
        },
        "id": "MAWh4EjLMH3x",
        "outputId": "4b680a84-2945-425b-a0f9-4a97eb4786e4"
      },
      "execution_count": 40,
      "outputs": [
        {
          "output_type": "display_data",
          "data": {
            "text/plain": [
              "<Figure size 432x288 with 1 Axes>"
            ],
            "image/png": "[encoded data removed]"
          },
          "metadata": {
            "needs_background": "light"
          }
        }
      ]
    },
    {
      "cell_type": "markdown",
      "source": [
        "When SME is used instead of binary crossentropy, accuracy is more stable. Training and validation loss showed a similar trend until two epochs, when there is a significant difference. Validation accuracy began to decline after the fourth epoch when MSE was used as the loss function."
      ],
      "metadata": {
        "id": "Q3ZbfnsKMTf3"
      }
    },
    {
      "cell_type": "markdown",
      "source": [
        "#4 I am using  tanh activation instead of relu. "
      ],
      "metadata": {
        "id": "PjZqVuDSMV3I"
      }
    },
    {
      "cell_type": "code",
      "source": [
        "model4 = keras.Sequential([\n",
        "    layers.Dense(16, activation=\"tanh\"),\n",
        "    layers.Dense(16, activation=\"tanh\"),\n",
        "    layers.Dense(1, activation=\"sigmoid\")\n",
        "])"
      ],
      "metadata": {
        "id": "-KNd8NEvMW77"
      },
      "execution_count": 41,
      "outputs": []
    },
    {
      "cell_type": "code",
      "source": [
        "model4.compile(optimizer=\"adam\",\n",
        "              loss=\"mse\",\n",
        "              metrics=[\"accuracy\"])"
      ],
      "metadata": {
        "id": "fMyfygDpMcms"
      },
      "execution_count": 42,
      "outputs": []
    },
    {
      "cell_type": "code",
      "source": [
        "hist4 = model4.fit(partial_x_train,\n",
        "                    partial_y_train,\n",
        "                    epochs=20,\n",
        "                    batch_size=512,\n",
        "                    validation_data=(x_val, y_val))"
      ],
      "metadata": {
        "colab": {
          "base_uri": "https://localhost:8080/"
        },
        "id": "vcQsMZoNMfe7",
        "outputId": "6a010d2e-fc15-4535-9aee-f19e53441ef8"
      },
      "execution_count": 43,
      "outputs": [
        {
          "output_type": "stream",
          "name": "stdout",
          "text": [
            "Epoch 1/20\n",
            "30/30 [==============================] - 2s 45ms/step - loss: 0.1580 - accuracy: 0.7921 - val_loss: 0.1071 - val_accuracy: 0.8664\n",
            "Epoch 2/20\n",
            "30/30 [==============================] - 1s 36ms/step - loss: 0.0738 - accuracy: 0.9142 - val_loss: 0.0858 - val_accuracy: 0.8876\n",
            "Epoch 3/20\n",
            "30/30 [==============================] - 1s 36ms/step - loss: 0.0491 - accuracy: 0.9473 - val_loss: 0.0833 - val_accuracy: 0.8884\n",
            "Epoch 4/20\n",
            "30/30 [==============================] - 1s 36ms/step - loss: 0.0344 - accuracy: 0.9671 - val_loss: 0.0842 - val_accuracy: 0.8844\n",
            "Epoch 5/20\n",
            "30/30 [==============================] - 1s 36ms/step - loss: 0.0250 - accuracy: 0.9782 - val_loss: 0.0873 - val_accuracy: 0.8803\n",
            "Epoch 6/20\n",
            "30/30 [==============================] - 1s 36ms/step - loss: 0.0187 - accuracy: 0.9853 - val_loss: 0.0915 - val_accuracy: 0.8761\n",
            "Epoch 7/20\n",
            "30/30 [==============================] - 1s 36ms/step - loss: 0.0140 - accuracy: 0.9891 - val_loss: 0.0946 - val_accuracy: 0.8737\n",
            "Epoch 8/20\n",
            "30/30 [==============================] - 1s 36ms/step - loss: 0.0108 - accuracy: 0.9921 - val_loss: 0.0964 - val_accuracy: 0.8731\n",
            "Epoch 9/20\n",
            "30/30 [==============================] - 1s 36ms/step - loss: 0.0086 - accuracy: 0.9937 - val_loss: 0.0987 - val_accuracy: 0.8712\n",
            "Epoch 10/20\n",
            "30/30 [==============================] - 1s 37ms/step - loss: 0.0071 - accuracy: 0.9948 - val_loss: 0.1010 - val_accuracy: 0.8723\n",
            "Epoch 11/20\n",
            "30/30 [==============================] - 1s 37ms/step - loss: 0.0063 - accuracy: 0.9951 - val_loss: 0.1026 - val_accuracy: 0.8716\n",
            "Epoch 12/20\n",
            "30/30 [==============================] - 1s 37ms/step - loss: 0.0056 - accuracy: 0.9956 - val_loss: 0.1033 - val_accuracy: 0.8705\n",
            "Epoch 13/20\n",
            "30/30 [==============================] - 1s 37ms/step - loss: 0.0052 - accuracy: 0.9957 - val_loss: 0.1043 - val_accuracy: 0.8693\n",
            "Epoch 14/20\n",
            "30/30 [==============================] - 1s 37ms/step - loss: 0.0048 - accuracy: 0.9959 - val_loss: 0.1056 - val_accuracy: 0.8682\n",
            "Epoch 15/20\n",
            "30/30 [==============================] - 1s 38ms/step - loss: 0.0045 - accuracy: 0.9961 - val_loss: 0.1065 - val_accuracy: 0.8681\n",
            "Epoch 16/20\n",
            "30/30 [==============================] - 1s 36ms/step - loss: 0.0043 - accuracy: 0.9962 - val_loss: 0.1074 - val_accuracy: 0.8676\n",
            "Epoch 17/20\n",
            "30/30 [==============================] - 1s 40ms/step - loss: 0.0041 - accuracy: 0.9963 - val_loss: 0.1082 - val_accuracy: 0.8670\n",
            "Epoch 18/20\n",
            "30/30 [==============================] - 1s 37ms/step - loss: 0.0039 - accuracy: 0.9965 - val_loss: 0.1089 - val_accuracy: 0.8662\n",
            "Epoch 19/20\n",
            "30/30 [==============================] - 1s 37ms/step - loss: 0.0038 - accuracy: 0.9965 - val_loss: 0.1093 - val_accuracy: 0.8670\n",
            "Epoch 20/20\n",
            "30/30 [==============================] - 1s 36ms/step - loss: 0.0037 - accuracy: 0.9966 - val_loss: 0.1099 - val_accuracy: 0.8653\n"
          ]
        }
      ]
    },
    {
      "cell_type": "code",
      "source": [
        "histp4 = hist4.history\n",
        "loss_values = histp4[\"loss\"]\n",
        "val_loss_values = histp4[\"val_loss\"]\n",
        "epochs = range(1, len(loss_values) + 1)\n",
        "plt.plot(epochs, loss_values, \"bo\", label=\"Training loss\")\n",
        "plt.plot(epochs, val_loss_values, \"b\", label=\"Validation loss\")\n",
        "plt.title(\"Training and validation loss\")\n",
        "plt.xlabel(\"Epochs\")\n",
        "plt.ylabel(\"Loss\")\n",
        "plt.legend()\n",
        "plt.show()\n",
        "\n",
        "plt.clf()\n",
        "acc = histp4[\"accuracy\"]\n",
        "val_acc = histp4[\"val_accuracy\"]\n",
        "plt.plot(epochs, acc, \"bo\", label=\"Training acc\")\n",
        "plt.plot(epochs, val_acc, \"b\", label=\"Validation acc\")\n",
        "plt.title(\"Training and validation accuracy\")\n",
        "plt.xlabel(\"Epochs\")\n",
        "plt.ylabel(\"Accuracy\")\n",
        "plt.legend()"
      ],
      "metadata": {
        "colab": {
          "base_uri": "https://localhost:8080/",
          "height": 590
        },
        "id": "jaq9vVwmMrP1",
        "outputId": "7ead760a-47b6-406a-9a7e-39ddf7695427"
      },
      "execution_count": 44,
      "outputs": [
        {
          "output_type": "display_data",
          "data": {
            "text/plain": [
              "<Figure size 432x288 with 1 Axes>"
            ],
            "image/png": "[encoded data removed]"
          },
          "metadata": {
            "needs_background": "light"
          }
        },
        {
          "output_type": "execute_result",
          "data": {
            "text/plain": [
              "<matplotlib.legend.Legend at 0x7fc36dc7de50>"
            ]
          },
          "metadata": {},
          "execution_count": 44
        },
        {
          "output_type": "display_data",
          "data": {
            "text/plain": [
              "<Figure size 432x288 with 1 Axes>"
            ],
            "image/png": "[encoded data removed]"
          },
          "metadata": {
            "needs_background": "light"
          }
        }
      ]
    },
    {
      "cell_type": "markdown",
      "source": [
        "While training accuracy increased, validation accuracy increased until the second epoch and then declined. Validation loss increased more when ReLu was used than Tanh, and validation accuracy fluctuated more in ReLu than Tanh."
      ],
      "metadata": {
        "id": "f0mbNwydM14j"
      }
    },
    {
      "cell_type": "markdown",
      "source": [
        "#5 In our network I am using Dropout Technique."
      ],
      "metadata": {
        "id": "ms_ABXRnM3Mw"
      }
    },
    {
      "cell_type": "markdown",
      "source": [],
      "metadata": {
        "id": "YXZsF8_9NAXG"
      }
    },
    {
      "cell_type": "code",
      "source": [
        "#I am using the dropout method with two hidden layers that have the ReLu activation function.\n",
        "from tensorflow import keras\n",
        "from tensorflow.keras import layers\n",
        "model5 = keras.Sequential([\n",
        "    layers.Dense(16, activation=\"relu\"),\n",
        "    layers.Dropout(0.5),\n",
        "    layers.Dense(16, activation=\"relu\"),\n",
        "    layers.Dense(1, activation=\"sigmoid\")\n",
        "])"
      ],
      "metadata": {
        "id": "M8qx4ftOM4ot"
      },
      "execution_count": 46,
      "outputs": []
    },
    {
      "cell_type": "code",
      "source": [
        "model5.compile(optimizer=\"adam\",\n",
        "              loss=\"binary_crossentropy\",\n",
        "              metrics=[\"accuracy\"])"
      ],
      "metadata": {
        "id": "gcda5Q19NM1F"
      },
      "execution_count": 47,
      "outputs": []
    },
    {
      "cell_type": "code",
      "source": [
        "hist5 = model5.fit(partial_x_train,\n",
        "                    partial_y_train,\n",
        "                    epochs=20,\n",
        "                    batch_size=512,\n",
        "                    validation_data=(x_val, y_val))"
      ],
      "metadata": {
        "colab": {
          "base_uri": "https://localhost:8080/"
        },
        "id": "Oh6Qp-rgNPlL",
        "outputId": "70dff835-2af0-4771-fce2-e8de7b2ff452"
      },
      "execution_count": 48,
      "outputs": [
        {
          "output_type": "stream",
          "name": "stdout",
          "text": [
            "Epoch 1/20\n",
            "30/30 [==============================] - 2s 46ms/step - loss: 0.6380 - accuracy: 0.6597 - val_loss: 0.5233 - val_accuracy: 0.8416\n",
            "Epoch 2/20\n",
            "30/30 [==============================] - 1s 37ms/step - loss: 0.4824 - accuracy: 0.8091 - val_loss: 0.3869 - val_accuracy: 0.8708\n",
            "Epoch 3/20\n",
            "30/30 [==============================] - 1s 37ms/step - loss: 0.3696 - accuracy: 0.8639 - val_loss: 0.3180 - val_accuracy: 0.8868\n",
            "Epoch 4/20\n",
            "30/30 [==============================] - 1s 37ms/step - loss: 0.3010 - accuracy: 0.8924 - val_loss: 0.2849 - val_accuracy: 0.8904\n",
            "Epoch 5/20\n",
            "30/30 [==============================] - 1s 38ms/step - loss: 0.2504 - accuracy: 0.9128 - val_loss: 0.2721 - val_accuracy: 0.8925\n",
            "Epoch 6/20\n",
            "30/30 [==============================] - 1s 37ms/step - loss: 0.2099 - accuracy: 0.9283 - val_loss: 0.2690 - val_accuracy: 0.8911\n",
            "Epoch 7/20\n",
            "30/30 [==============================] - 1s 37ms/step - loss: 0.1825 - accuracy: 0.9373 - val_loss: 0.2743 - val_accuracy: 0.8891\n",
            "Epoch 8/20\n",
            "30/30 [==============================] - 1s 36ms/step - loss: 0.1580 - accuracy: 0.9447 - val_loss: 0.2878 - val_accuracy: 0.8881\n",
            "Epoch 9/20\n",
            "30/30 [==============================] - 1s 37ms/step - loss: 0.1379 - accuracy: 0.9522 - val_loss: 0.3011 - val_accuracy: 0.8866\n",
            "Epoch 10/20\n",
            "30/30 [==============================] - 1s 37ms/step - loss: 0.1171 - accuracy: 0.9603 - val_loss: 0.3130 - val_accuracy: 0.8844\n",
            "Epoch 11/20\n",
            "30/30 [==============================] - 1s 37ms/step - loss: 0.1002 - accuracy: 0.9665 - val_loss: 0.3320 - val_accuracy: 0.8846\n",
            "Epoch 12/20\n",
            "30/30 [==============================] - 1s 36ms/step - loss: 0.0872 - accuracy: 0.9701 - val_loss: 0.3478 - val_accuracy: 0.8841\n",
            "Epoch 13/20\n",
            "30/30 [==============================] - 1s 39ms/step - loss: 0.0762 - accuracy: 0.9720 - val_loss: 0.3746 - val_accuracy: 0.8825\n",
            "Epoch 14/20\n",
            "30/30 [==============================] - 1s 36ms/step - loss: 0.0642 - accuracy: 0.9785 - val_loss: 0.3971 - val_accuracy: 0.8806\n",
            "Epoch 15/20\n",
            "30/30 [==============================] - 1s 39ms/step - loss: 0.0596 - accuracy: 0.9780 - val_loss: 0.4126 - val_accuracy: 0.8807\n",
            "Epoch 16/20\n",
            "30/30 [==============================] - 1s 36ms/step - loss: 0.0525 - accuracy: 0.9824 - val_loss: 0.4362 - val_accuracy: 0.8820\n",
            "Epoch 17/20\n",
            "30/30 [==============================] - 1s 36ms/step - loss: 0.0492 - accuracy: 0.9835 - val_loss: 0.4516 - val_accuracy: 0.8818\n",
            "Epoch 18/20\n",
            "30/30 [==============================] - 1s 36ms/step - loss: 0.0469 - accuracy: 0.9833 - val_loss: 0.4547 - val_accuracy: 0.8802\n",
            "Epoch 19/20\n",
            "30/30 [==============================] - 1s 36ms/step - loss: 0.0403 - accuracy: 0.9865 - val_loss: 0.4839 - val_accuracy: 0.8788\n",
            "Epoch 20/20\n",
            "30/30 [==============================] - 1s 36ms/step - loss: 0.0379 - accuracy: 0.9869 - val_loss: 0.5021 - val_accuracy: 0.8807\n"
          ]
        }
      ]
    },
    {
      "cell_type": "code",
      "source": [
        "#Creating training vs. validation graphs Training vs. validation accuracy and loss\n",
        "import matplotlib.pyplot as plt\n",
        "histp5 = hist5.history\n",
        "loss_values = histp5[\"loss\"]\n",
        "val_loss_values = histp5[\"val_loss\"]\n",
        "epochs = range(1, len(loss_values) + 1)\n",
        "plt.plot(epochs, loss_values, \"bo\", label=\"Training loss\")\n",
        "plt.plot(epochs, val_loss_values, \"b\", label=\"Validation loss\")\n",
        "plt.title(\"Training and validation loss\")\n",
        "plt.xlabel(\"Epochs\")\n",
        "plt.ylabel(\"Loss\")\n",
        "plt.legend()\n",
        "plt.show()\n",
        "\n",
        "plt.clf()\n",
        "acc = histp5[\"accuracy\"]\n",
        "val_acc = histp5[\"val_accuracy\"]\n",
        "plt.plot(epochs, acc, \"bo\", label=\"Training acc\")\n",
        "plt.plot(epochs, val_acc, \"b\", label=\"Validation acc\")\n",
        "plt.title(\"Training and validation accuracy\")\n",
        "plt.xlabel(\"Epochs\")\n",
        "plt.ylabel(\"Accuracy\")\n",
        "plt.legend()\n",
        "plt.show()"
      ],
      "metadata": {
        "colab": {
          "base_uri": "https://localhost:8080/",
          "height": 573
        },
        "id": "PFICsrGwNiaQ",
        "outputId": "9fb0a0d6-cd83-486c-dbb9-281c60a96d2c"
      },
      "execution_count": 49,
      "outputs": [
        {
          "output_type": "display_data",
          "data": {
            "text/plain": [
              "<Figure size 432x288 with 1 Axes>"
            ],
            "image/png": "[encoded data removed]"
          },
          "metadata": {
            "needs_background": "light"
          }
        },
        {
          "output_type": "display_data",
          "data": {
            "text/plain": [
              "<Figure size 432x288 with 1 Axes>"
            ],
            "image/png": "[encoded data removed]"
          },
          "metadata": {
            "needs_background": "light"
          }
        }
      ]
    },
    {
      "cell_type": "markdown",
      "source": [
        "Training accuracy steadily increased, whereas validation accuracy increased until 8 epochs and then nearly decreased. Using the dropout technique, accuracy improved over many epochs, and the graph showed no significant change in validation accuracy."
      ],
      "metadata": {
        "id": "vPBqMeUIN4j7"
      }
    }
  ],
  "metadata": {
    "colab": {
      "collapsed_sections": [],
      "name": "chapter04_getting-started-with-neural-networks.i",
      "provenance": []
    },
    "kernelspec": {
      "display_name": "Python 3",
      "language": "python",
      "name": "python3"
    },
    "language_info": {
      "codemirror_mode": {
        "name": "ipython",
        "version": 3
      },
      "file_extension": ".py",
      "mimetype": "text/x-python",
      "name": "python",
      "nbconvert_exporter": "python",
      "pygments_lexer": "ipython3",
      "version": "3.7.0"
    }
  },
  "nbformat": 4,
  "nbformat_minor": 0
}